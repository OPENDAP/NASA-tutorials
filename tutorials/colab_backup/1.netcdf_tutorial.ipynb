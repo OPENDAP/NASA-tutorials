{
 "cells": [
  {
   "cell_type": "markdown",
   "id": "350cd993",
   "metadata": {},
   "source": [
    "# Using NetCDF Python interface for simple remote data access using DAP4\n",
    "\n",
    "This notebook contains a simple example of how to use the NetCDF Python interface and DAP4 to pull data from remote DAP4 servers into your Python program's memory space so that the data may be analyized and displayed.\n",
    "\n",
    "We show how to use simple HTTP requests to look at a dataset's metadata and how to use the NetCDF Python package to read data into numpy arrays and plot (or do other things) with those data. NetCDF Python provides lazy evaluation, so data are read only when needed.\n",
    "\n",
    "This tutorial utilizes the NASA Global High Resolution Sea Surface Temperature from the GOES-16 satellite. You may wish to review the summary on our Tutorial Datasets page before continuing.\n",
    "\n",
    "To read more about this package, see __[netCDF4](https://unidata.github.io/netcdf4-python/)__ which includes information on OPeNDAP\n",
    "\n",
    "You can run this tutorial in your browser using Google Colab.<br>\n",
    "\n",
    "<a target=\"_blank\" href=\"https://colab.research.google.com/github/OPENDAP/NASA-tutorials/blob/main/tutorials/colab_backup/1.netcdf_tutorial.ipynb\">\n",
    "  <img src=\"https://colab.research.google.com/assets/colab-badge.svg\" alt=\"Open In Colab\"/>\n",
    "</a>\n",
    "\n",
    "### Contents\n",
    "[Imports](#Colab-environment-setup-and-imports) Packages you need to read data from the OPeNDAP server<br>\n",
    "[Opening the remote dataset](#Open-the-remote-dataset-using-the-URL) The initial interaction with the remote dataset<br>\n",
    "[Looking at a variable](#Looking-at-a-variable) Get attribute information about a specific variable<br>\n",
    "[Examining dataset dimenions](#Examining-dataset-dimenions) Learn about the overall dataset structure<br>\n",
    "[Getting useful information about variables](#Getting-useful-information-about-variables) More about variables<br>\n",
    "[Accessing data](#Accessing-data) Read values in the arrays<br>\n",
    "[Plotting data](#Plotting-data) This section imports some more packages<br>\n",
    "[References](#References)<br>\n",
    "\n",
    "Copyright (C) 2023 OPeNDAP, Inc. This Jupyter Notebook is made available under the Creative Commons Attribution license 4.0.\n"
   ]
  },
  {
   "cell_type": "markdown",
   "id": "038b5d6c",
   "metadata": {},
   "source": [
    "## Colab Environment Setup and Imports\n",
    "\n",
    "To use the netCDF4 Python package to read from OPeNDAP servers, including the NASA Cloud-based server, you only need to include the `netCDF4` package. Later in this notebook we will show some plots that use other packages for the graphics."
   ]
  },
  {
   "cell_type": "code",
   "execution_count": 3,
   "id": "4963a3a8",
   "metadata": {
    "ExecuteTime": {
     "end_time": "2023-07-14T03:12:46.051026Z",
     "start_time": "2023-07-14T03:12:45.139701Z"
    },
    "tags": []
   },
   "outputs": [
    {
     "name": "stdout",
     "output_type": "stream",
     "text": [
      "Requirement already satisfied: netcdf4 in /Users/jimg/opt/miniforge3/envs/opendap/lib/python3.9/site-packages (1.6.2)\r\n",
      "Requirement already satisfied: numpy>=1.9 in /Users/jimg/opt/miniforge3/envs/opendap/lib/python3.9/site-packages (from netcdf4) (1.23.5)\r\n",
      "Requirement already satisfied: cftime in /Users/jimg/opt/miniforge3/envs/opendap/lib/python3.9/site-packages (from netcdf4) (1.6.2)\r\n"
     ]
    }
   ],
   "source": [
    "# Clone into the repository\n",
    "! git clone https://github.com/OPENDAP/NASA-tutorials.git\n",
    "# Use pip3 to install netCDF4 until conda has a version that authenticates with EDL.\n",
    "! pip3 install netcdf4 earthaccess\n",
    "# Create dodsrc files\n",
    "! ./NASA-tutorials/tutorials/setup_dodsrc.sh\n",
    "\n",
    "import netCDF4"
   ]
  },
  {
   "cell_type": "markdown",
   "id": "2eebbeb3",
   "metadata": {},
   "source": [
    "### Tutorial configuration\n",
    "\n",
    "Set the variables below to switch between data served using the NASA Cloud-based server and the OPeNDAP test server and to toggle verbose output mode.\n",
    "By default we will use data served from our test server since that does not require authentication. If you want to see those same data from the NASA server\n",
    "you will need to obtain credentials for NASA's __[Earthdata Login](https://urs.earthdata.nasa.gov/)__ and for the (simple) steps to\n",
    "__[configure netCDF4](https://opendap.github.io/documentation/tutorials/ClientAuthentication_at.html#_matlab_ferret_other_applications_that_use_netcdf_c)__\n",
    "to use those.\n",
    "\n",
    "<div class=\"alert alert-block alert-info\">\n",
    "    Be sure to start the URL with the <b><tt>dap4:</tt></b> prefix and not the <b><tt>https:</tt></b>\n",
    "    prefix when using the <b>netCDF4 Python</b> package and accessing data served by \n",
    "    NASA's OPeNDAP in the Cloud server. The OPeNDAP in the Cloud server will otherwise \n",
    "    send responses that (often) cannot represent some of the variables in the dataset.\n",
    "</div>"
   ]
  },
  {
   "cell_type": "code",
   "execution_count": 25,
   "id": "d1a152e1",
   "metadata": {
    "ExecuteTime": {
     "end_time": "2023-07-14T03:20:42.314166Z",
     "start_time": "2023-07-14T03:20:42.295320Z"
    },
    "tags": []
   },
   "outputs": [
    {
     "name": "stdout",
     "output_type": "stream",
     "text": [
      "Are you authenticated... yes.\n",
      "The netCDF4 library version must be 4.9.0 or be >= 4.9.3 for EDL authentication to work.\n",
      "The netCDF4 library version is 4.8.1 of Jan 25 2023 00:27:43 $\n",
      "dataset_url: dap4://opendap.earthdata.nasa.gov/collections/C2036877806-POCLOUD/granules/20220812010000-OSISAF-L3C_GHRSST-SSTsubskin-GOES16-ssteqc_goes16_20220812_010000-v02.0-fv01.0\n"
     ]
    }
   ],
   "source": [
    "USE_NASA_CLOUD_BASED_DATA = True\n",
    "VERBOSE = True\n",
    "\n",
    "# Detect authentication has already happened. This is easy to override.\n",
    "ALREADY_AUTH = False\n",
    "import subprocess\n",
    "# shell exit 0 is 'true'\n",
    "if not subprocess.call(['bash', './is_authenticated.sh']):\n",
    "    ALREADY_AUTH = True\n",
    "\n",
    "if(USE_NASA_CLOUD_BASED_DATA):\n",
    "    print(f\"The netCDF4 library version must be 4.9.0 or be >= 4.9.3 for EDL authentication to work.\")\n",
    "    print(f\"The netCDF4 library version is {netCDF4.getlibversion()}\")\n",
    "    if not ALREADY_AUTH:\n",
    "        import earthaccess\n",
    "        auth = earthaccess.login(strategy=\"interactive\", persist=True)\n",
    "        subprocess.call(['bash', './setup_dodsrc.sh'])\n",
    "    dataset_url = \"dap4://opendap.earthdata.nasa.gov/collections/C2036877806-POCLOUD/granules/20220812010000-OSISAF-L3C_GHRSST-SSTsubskin-GOES16-ssteqc_goes16_20220812_010000-v02.0-fv01.0\"\n",
    "else:\n",
    "    dataset_url = \"dap4://test.opendap.org/opendap/tutorials/20220812010000-OSISAF-L3C_GHRSST-SSTsubskin-GOES16-ssteqc_goes16_20220812_010000-v02.0-fv01.0.nc\"\n",
    "\n",
    "# define 'vprint()'' as print() if VERBOSE is True, otherwise define it as a function that does nothing.\n",
    "vprint = print if VERBOSE else lambda *a, **k: None\n",
    "\n",
    "vprint(f\"dataset_url: {dataset_url}\")"
   ]
  },
  {
   "cell_type": "markdown",
   "id": "208c2948",
   "metadata": {},
   "source": [
    "## Open the remote dataset using the URL\n",
    "\n",
    "When a URL is passed to the netCDF.Dataset() function, the package will read only descriptive information about the contents of the dataset. If the returned obj ('f' in this example) is printed, we can see that information that includes the data model, file format and dataset attributes.\n",
    "\n",
    "There is a delay as the information about this dataset is read from the remote site. Fortunately, the whole dataset is not transferred, only the dataset's descriptive information (aka metadata).\n",
    "\n",
    "Note that at the end of the display, the variables and their dimensions are shown. That's going to be useful!"
   ]
  },
  {
   "cell_type": "code",
   "execution_count": 8,
   "id": "50e89127",
   "metadata": {
    "ExecuteTime": {
     "end_time": "2023-07-14T03:16:00.715588Z",
     "start_time": "2023-07-14T03:15:55.769881Z"
    },
    "tags": []
   },
   "outputs": [
    {
     "name": "stdout",
     "output_type": "stream",
     "text": [
      "NetCDF4 dataset: <class 'netCDF4._netCDF4.Dataset'>\n",
      "root group (NETCDF4 data model, file format DAP4):\n",
      "    Conventions: CF-1.4\n",
      "    title: Sea Surface Temperature\n",
      "    summary: The L3C product derived from GOES16/ABI brightness temperatures.\n",
      "    references: Geostationary Sea Surface Temperature Product User Manual, http://www.osi-saf.org\n",
      "    institution: OSISAF\n",
      "    comment: \n",
      "    license: All intellectual property rights of the Ocean &amp; Sea Ice SAF products belong to EUMETSAT. The use of these products is granted to every user, free of charge. If users wish to use these products, EUMETSAT&apos;s copyright credit must be shown by displaying the words &apos;Copyright EUMETSAT&apos; under each of the products shown. EUMETSAT offers no warranty and accepts no liability in respect of the Ocean &amp; Sea Ice SAF products. EUMETSAT neither commits to nor guarantees the continuity, availability, or quality or suitability for any purpose of, the Ocean &amp; Sea Ice SAF products.\n",
      "    id: GOES16-OSISAF-L3C-v1.0\n",
      "    product_id: OSI-207-b\n",
      "    naming_authority: org.ghrsst\n",
      "    product_version: 1.0\n",
      "    gds_version_id: 2.0\n",
      "    file_quality_level: 3\n",
      "    spatial_resolution: 0.05 degree\n",
      "    northernmost_latitude: 60.000008\n",
      "    southernmost_latitude: -60.000023\n",
      "    easternmost_longitude: -15.000006\n",
      "    westernmost_longitude: -135.00009\n",
      "    source: GOES_ABI\n",
      "    platform: GOES16\n",
      "    sensor: GOES_ABI\n",
      "    Metadata_Conventions: Unidata Dataset Discovery v1.0\n",
      "    metadata_link: N/A\n",
      "    keywords: Oceans &gt; Ocean Temperature &gt; Sea Surface Temperature \n",
      "    keywords_vocabulary: NASA Global Change Master Directory (GCMD) Science Keywords\n",
      "    standard_name_vocabulary: NetCDF Climate and Forecast (CF) Metadata Convention\n",
      "    geospatial_lat_units: degrees_north\n",
      "    geospatial_lat_resolution: 0.05\n",
      "    geospatial_lon_units: degrees_east\n",
      "    geospatial_lon_resolution: 0.05\n",
      "    acknowledgment: In case SAF data (pre-operational or operational) has been used for the study described in a paper the following sentence would be an appropriate reference to the funding coming from EUMETSAT: The data from the EUMETSAT Satellite Application Facility on Ocean &amp; Sea Ice  used in this study are accessible through the SAF&apos;s homepage http://www.osi-saf.org\n",
      "    creator_name: O&amp;SI SAF\n",
      "    creator_email: osi-saf.helpdesk@meteo.fr\n",
      "    creator_url: http://www.osi-saf.org\n",
      "    project: Group for High Resolution Sea Surface Temperature\n",
      "    publisher_name: The GHRSST Project Office\n",
      "    publisher_url: http://www.ghrsst.org\n",
      "    publisher_email: ghrsst-po@nceo.ac.uk\n",
      "    processing_level: L3C\n",
      "    cdm_data_type: grid\n",
      "    history: METEO-FRANCE GEOSAFO v1.1.8\n",
      "    uuid: DF556788-19E1-11ED-A08A-48DF370DAD10\n",
      "    date_created: 20220812T015542Z\n",
      "    start_time: 20220812T004042Z\n",
      "    time_coverage_start: 20220812T004042Z\n",
      "    stop_time: 20220812T011929Z\n",
      "    time_coverage_end: 20220812T011929Z\n",
      "    netcdf_version_id: 4.6.3\n",
      "    dimensions(sizes): time(1), lat(2400), lon(2400)\n",
      "    variables(dimensions): int8 wind_speed(time, lat, lon), float32 lon(lon), int16 or_longitude(time, lat, lon), int32 time(time), int8 sses_standard_deviation(time, lat, lon), int32 sst_dtime(time, lat, lon), int8 solar_zenith_angle(time, lat, lon), int8 sea_ice_fraction(time, lat, lon), int32 l2p_flags(time, lat, lon), int8 sources_of_adi(time, lat, lon), int8 aerosol_dynamic_indicator(time, lat, lon), int16 sea_surface_temperature(time, lat, lon), int8 quality_level(time, lat, lon), int8 dt_analysis(time, lat, lon), int8 satellite_zenith_angle(time, lat, lon), float32 lat(lat), int8 adi_dtime_from_sst(time, lat, lon), int16 or_latitude(time, lat, lon), int8 sses_bias(time, lat, lon)\n",
      "    groups: \n",
      "CPU times: user 39.3 ms, sys: 15.9 ms, total: 55.2 ms\n",
      "Wall time: 4.94 s\n"
     ]
    }
   ],
   "source": [
    "%%time\n",
    "f = netCDF4.Dataset(dataset_url, 'r')\n",
    "print(f\"NetCDF4 dataset: {f}\") "
   ]
  },
  {
   "cell_type": "markdown",
   "id": "74dd8cb7",
   "metadata": {},
   "source": [
    "## Looking at a variable\n",
    "\n",
    "Because information about each variable was read during the netCDF4.Dataset() call, the response is fast.\n",
    "\n",
    "Information about variables in the dataset is held in a Python dictionary named 'variables.' The information for the variable 'lat' is accessed below.\n",
    "\n",
    "Note that object returned when the `variables` disctionary is used is a `numpy` array, but the actual values are not loaded into that array until requested."
   ]
  },
  {
   "cell_type": "code",
   "execution_count": 9,
   "id": "89b11c7f",
   "metadata": {
    "ExecuteTime": {
     "end_time": "2023-07-14T03:16:06.609865Z",
     "start_time": "2023-07-14T03:16:06.601466Z"
    },
    "tags": []
   },
   "outputs": [
    {
     "name": "stdout",
     "output_type": "stream",
     "text": [
      "Latitude: <class 'netCDF4._netCDF4.Variable'>\n",
      "float32 lat(lat)\n",
      "    long_name: latitude\n",
      "    standard_name: latitude\n",
      "    axis: Y\n",
      "    units: degrees_north\n",
      "    valid_min: -90.000046\n",
      "    valid_max: 90.000015\n",
      "    comment: geographical coordinates, WGS84 projection\n",
      "unlimited dimensions: \n",
      "current shape = (2400,)\n",
      "filling on, default _FillValue of 9.969209968386869e+36 used\n"
     ]
    }
   ],
   "source": [
    "lat = f.variables['lat']\n",
    "print(f\"Latitude: {lat}\")"
   ]
  },
  {
   "cell_type": "markdown",
   "id": "530b7039",
   "metadata": {},
   "source": [
    "## Examining dataset dimenions\n",
    "\n",
    "Sometimes it is handy to know about shared dimensions in a dataset. Use the Python dictionary 'dimensions' for that, as shown below."
   ]
  },
  {
   "cell_type": "code",
   "execution_count": 10,
   "id": "2793d1b3",
   "metadata": {
    "ExecuteTime": {
     "end_time": "2023-07-14T03:16:10.210989Z",
     "start_time": "2023-07-14T03:16:10.202231Z"
    },
    "tags": []
   },
   "outputs": [
    {
     "name": "stdout",
     "output_type": "stream",
     "text": [
      "<class 'netCDF4._netCDF4.Dimension'>: name = 'time', size = 1\n",
      "<class 'netCDF4._netCDF4.Dimension'>: name = 'lat', size = 2400\n",
      "<class 'netCDF4._netCDF4.Dimension'>: name = 'lon', size = 2400\n"
     ]
    }
   ],
   "source": [
    "for dname, d in f.dimensions.items():\n",
    "    print(d)\n"
   ]
  },
  {
   "cell_type": "markdown",
   "id": "865b340c",
   "metadata": {},
   "source": [
    "## Getting useful information about variables\n",
    "\n",
    "Often it is useful to know the dimensions and shape of variables. Below the shape for the 'lat' and 'sea_surface_temperature' variables are accessed."
   ]
  },
  {
   "cell_type": "code",
   "execution_count": 11,
   "id": "2bb1eec1",
   "metadata": {
    "ExecuteTime": {
     "end_time": "2023-07-14T03:16:12.646685Z",
     "start_time": "2023-07-14T03:16:12.632986Z"
    },
    "tags": []
   },
   "outputs": [
    {
     "data": {
      "text/plain": [
       "('lat',)"
      ]
     },
     "execution_count": 11,
     "metadata": {},
     "output_type": "execute_result"
    }
   ],
   "source": [
    "lat.dimensions"
   ]
  },
  {
   "cell_type": "code",
   "execution_count": 12,
   "id": "1498efaa",
   "metadata": {
    "ExecuteTime": {
     "end_time": "2023-07-14T03:16:13.791520Z",
     "start_time": "2023-07-14T03:16:13.780649Z"
    },
    "tags": []
   },
   "outputs": [
    {
     "data": {
      "text/plain": [
       "(2400,)"
      ]
     },
     "execution_count": 12,
     "metadata": {},
     "output_type": "execute_result"
    }
   ],
   "source": [
    "f.variables['lat'].shape"
   ]
  },
  {
   "cell_type": "code",
   "execution_count": 13,
   "id": "0697fcb4",
   "metadata": {
    "ExecuteTime": {
     "end_time": "2023-07-14T03:16:14.413826Z",
     "start_time": "2023-07-14T03:16:14.407240Z"
    },
    "tags": []
   },
   "outputs": [
    {
     "data": {
      "text/plain": [
       "(1, 2400, 2400)"
      ]
     },
     "execution_count": 13,
     "metadata": {},
     "output_type": "execute_result"
    }
   ],
   "source": [
    "f.variables['sea_surface_temperature'].shape"
   ]
  },
  {
   "cell_type": "markdown",
   "id": "95cba44f",
   "metadata": {},
   "source": [
    "## Accessing data\n",
    "\n",
    "To read the values for one or more variables, use the `variables` dictionary and the array slicing syntax to request the data.\n",
    "<div class=\"alert alert-block alert-info\">\n",
    "    This cell reads data values from the remote location and may take a while to run.\n",
    "<br><br>    Previously, the netCDF4 package read only small amounts of metadata from the remote dataset and each cell\n",
    "    ran quickly. The amount of time used to read the larger amount of data will depend on the speed of\n",
    "    the network connection and the current processing load on the data server\n",
    "</div>\n",
    "In the cells below, we get the Latitude, Longitude and Sea Surface Temperature data from the remote dataset."
   ]
  },
  {
   "cell_type": "code",
   "execution_count": 14,
   "id": "ebeac73d",
   "metadata": {
    "ExecuteTime": {
     "end_time": "2023-07-14T03:17:10.088190Z",
     "start_time": "2023-07-14T03:16:15.885564Z"
    },
    "tags": []
   },
   "outputs": [
    {
     "name": "stderr",
     "output_type": "stream",
     "text": [
      "checksumhack=0\n"
     ]
    },
    {
     "name": "stdout",
     "output_type": "stream",
     "text": [
      "CPU times: user 1.27 s, sys: 1.69 s, total: 2.96 s\n",
      "Wall time: 54.2 s\n"
     ]
    }
   ],
   "source": [
    "%%time\n",
    "latitude = f.variables['lat'][:]"
   ]
  },
  {
   "cell_type": "code",
   "execution_count": 15,
   "id": "faa6a934",
   "metadata": {
    "ExecuteTime": {
     "end_time": "2023-07-14T03:19:00.511029Z",
     "start_time": "2023-07-14T03:19:00.505136Z"
    },
    "tags": []
   },
   "outputs": [
    {
     "data": {
      "text/plain": [
       "masked_array(data=[-59.975, -59.925, -59.875, ...,  59.875,  59.925,\n",
       "                    59.975],\n",
       "             mask=False,\n",
       "       fill_value=1e+20,\n",
       "            dtype=float32)"
      ]
     },
     "execution_count": 15,
     "metadata": {},
     "output_type": "execute_result"
    }
   ],
   "source": [
    "latitude"
   ]
  },
  {
   "cell_type": "code",
   "execution_count": 16,
   "id": "be1e0c9e",
   "metadata": {
    "ExecuteTime": {
     "end_time": "2023-07-14T03:19:01.263955Z",
     "start_time": "2023-07-14T03:19:01.256607Z"
    },
    "tags": []
   },
   "outputs": [],
   "source": [
    "longitude = f.variables['lon'][:]"
   ]
  },
  {
   "cell_type": "code",
   "execution_count": 17,
   "id": "2334f839",
   "metadata": {
    "ExecuteTime": {
     "end_time": "2023-07-14T03:19:04.204926Z",
     "start_time": "2023-07-14T03:19:04.194104Z"
    },
    "tags": []
   },
   "outputs": [
    {
     "data": {
      "text/plain": [
       "masked_array(data=[-134.975, -134.925, -134.875, ...,  -15.125,  -15.075,\n",
       "                    -15.025],\n",
       "             mask=False,\n",
       "       fill_value=1e+20,\n",
       "            dtype=float32)"
      ]
     },
     "execution_count": 17,
     "metadata": {},
     "output_type": "execute_result"
    }
   ],
   "source": [
    "longitude"
   ]
  },
  {
   "cell_type": "code",
   "execution_count": 18,
   "id": "b4ec5744",
   "metadata": {
    "ExecuteTime": {
     "end_time": "2023-07-14T03:19:06.090037Z",
     "start_time": "2023-07-14T03:19:05.969722Z"
    },
    "tags": []
   },
   "outputs": [
    {
     "name": "stdout",
     "output_type": "stream",
     "text": [
      "Sea Surface Temperature shape: (1, 2400, 2400)\n",
      "Sea Surface Temperature: [[[-- -- -- ... -- -- --]\n",
      "  [-- -- -- ... -- -- --]\n",
      "  [-- -- -- ... -- -- --]\n",
      "  ...\n",
      "  [-- -- -- ... -- -- --]\n",
      "  [-- -- -- ... 288.28 288.28 288.28]\n",
      "  [-- -- -- ... 286.59999999999997 286.59999999999997 --]]]\n",
      "CPU times: user 97.6 ms, sys: 19 ms, total: 117 ms\n",
      "Wall time: 118 ms\n"
     ]
    }
   ],
   "source": [
    "%%time\n",
    "sst = f.variables['sea_surface_temperature'][:]\n",
    "print(f\"Sea Surface Temperature shape: {sst.shape}\")\n",
    "print(f\"Sea Surface Temperature: {sst}\")"
   ]
  },
  {
   "cell_type": "markdown",
   "id": "acc3f788",
   "metadata": {},
   "source": [
    "## Plotting data\n",
    "\n",
    "Using `matplotlib` and `cartopy`, these data can be plotted. (The `numpy` package is explicitly imported here so that it is easy to see where that is being used to help simplify the plotting operations).\n",
    "\n",
    "See Welcome to Pangeo at AOES, \"Making Maps using Cartopy\" for more information"
   ]
  },
  {
   "cell_type": "code",
   "execution_count": 19,
   "id": "3965689f",
   "metadata": {
    "ExecuteTime": {
     "end_time": "2023-07-14T03:19:09.924494Z",
     "start_time": "2023-07-14T03:19:09.247868Z"
    },
    "tags": []
   },
   "outputs": [],
   "source": [
    "import matplotlib.pyplot as plt\n",
    "# from cartopy import config\n",
    "import cartopy.crs as ccrs\n",
    "import cartopy.mpl.ticker as cticker\n",
    "\n",
    "import numpy as np     # Not strickly needed since netCDF4 includes numpy. Added for completeness."
   ]
  },
  {
   "cell_type": "code",
   "execution_count": 20,
   "id": "2e713831",
   "metadata": {
    "ExecuteTime": {
     "end_time": "2023-07-14T03:19:12.437216Z",
     "start_time": "2023-07-14T03:19:12.427226Z"
    },
    "tags": []
   },
   "outputs": [
    {
     "name": "stdout",
     "output_type": "stream",
     "text": [
      "Sea Surface Temperature shape: (2400, 2400)\n"
     ]
    }
   ],
   "source": [
    "# Use `numpy.sqeeze()` to reduce the three dimensional array to two dimensions, given that the third dimenstion\n",
    "# has a size of one. This simplifies plotting.\n",
    "\n",
    "sst = np.squeeze(sst)\n",
    "vprint(f\"Sea Surface Temperature shape: {sst.shape}\")"
   ]
  },
  {
   "cell_type": "markdown",
   "id": "811feb4e",
   "metadata": {},
   "source": [
    "### A simple plot\n",
    "\n",
    "This plot does not require much work - a making a simple plot is a good way to get a look at data."
   ]
  },
  {
   "cell_type": "code",
   "execution_count": 21,
   "id": "9671941c",
   "metadata": {
    "ExecuteTime": {
     "end_time": "2023-07-14T03:19:14.517022Z",
     "start_time": "2023-07-14T03:19:13.866926Z"
    },
    "tags": []
   },
   "outputs": [
    {
     "data": {
      "text/plain": [
       "<matplotlib.colorbar.Colorbar at 0x16d8c2550>"
      ]
     },
     "execution_count": 21,
     "metadata": {},
     "output_type": "execute_result"
    },
    {
     "data": {
      "image/png": "[encoded data removed]",
      "text/plain": [
       "<Figure size 640x480 with 2 Axes>"
      ]
     },
     "metadata": {},
     "output_type": "display_data"
    }
   ],
   "source": [
    "plt.contourf(sst)\n",
    "plt.colorbar()"
   ]
  },
  {
   "cell_type": "markdown",
   "id": "170d8bb7",
   "metadata": {},
   "source": [
    "## References\n",
    "\n",
    "netCDF4. Version 1.6.3. https://unidata.github.io/netcdf4-python/<br> \n",
    "Welcome to Pangeo at AOES. Making Maps using Cartopy. https://kpegion.github.io/Pangeo-at-AOES/examples/cartopy-tutorial.html<br>\n"
   ]
  },
  {
   "cell_type": "code",
   "execution_count": null,
   "id": "f866edd7",
   "metadata": {},
   "outputs": [],
   "source": []
  }
 ],
 "metadata": {
  "kernelspec": {
   "display_name": "Python 3 (ipykernel)",
   "language": "python",
   "name": "python3"
  },
  "language_info": {
   "codemirror_mode": {
    "name": "ipython",
    "version": 3
   },
   "file_extension": ".py",
   "mimetype": "text/x-python",
   "name": "python",
   "nbconvert_exporter": "python",
   "pygments_lexer": "ipython3",
   "version": "3.11.4"
  }
 },
 "nbformat": 4,
 "nbformat_minor": 5
}
