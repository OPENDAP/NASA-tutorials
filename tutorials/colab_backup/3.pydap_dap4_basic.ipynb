{
 "cells": [
  {
   "cell_type": "markdown",
   "metadata": {},
   "source": [
    "# Using PyDAP for simple remote data access using DAP4\n",
    "\n",
    "This notebook contains a simple example of how to use PyDAP and DAP4 to pull\n",
    "data from remote DAP4 servers into your Python program's memory space\n",
    "so that the data may be analyized and displayed.\n",
    "\n",
    "We show how to use simple HTTP requests to look at a dataset's metadata \n",
    "and how to use the PyDAP package to read data into numpy arrays and plot \n",
    "(or do other things) with those data. PyDAP provides lazy evaluation, so \n",
    "data are read only when needed.\n",
    "\n",
    "This tutorial utilizes the NASA Global High Resolution Sea Surface Temperature from the GOES-16 satellite. You may wish to review the summary on our [Tutorial Datasets page](https://opendap.github.io/documentation/tutorials/TutorialDatasets.html#_nasa_global_high_resolution_sea_surface_temperature_goes_16_satellite) before continuing.\n",
    "\n",
    "You can run this tutorial in your browser using Colab.<br>\n",
    "\n",
    "<a target=\"_blank\" href=\"https://colab.research.google.com/github/OPENDAP/NASA-tutorials/blob/main/tutorials/colab_backup/3.pydap_dap4_basic.ipynb\">\n",
    "  <img src=\"https://colab.research.google.com/assets/colab-badge.svg\" alt=\"Open In Colab\"/>\n",
    "</a>\n",
    "\n",
    "\n",
    "<br>\n",
    "\n",
    "Copyright (C) 2023 OPeNDAP, Inc.\n",
    "This Jupyter Notebook is made available under the [Creative Commons Attribution license 4.0](https://creativecommons.org/licenses/by/4.0/)."
   ]
  },
  {
   "cell_type": "code",
   "execution_count": null,
   "metadata": {},
   "outputs": [],
   "source": [
    "# Clone into the repository\n",
    "! git clone https://github.com/OPENDAP/NASA-tutorials.git\n",
    "# Use pip3 to install netCDF4 until conda has a version that authenticates with EDL.\n",
    "! pip3 install earthaccess pydap\n",
    "# Create dodsrc files\n",
    "! ./NASA-tutorials/tutorials/setup_dodsrc.sh"
   ]
  },
  {
   "cell_type": "code",
   "execution_count": 12,
   "metadata": {
    "ExecuteTime": {
     "end_time": "2023-07-14T03:27:12.897329Z",
     "start_time": "2023-07-14T03:27:12.888669Z"
    }
   },
   "outputs": [],
   "source": [
    "# The requests package provides a high-level interface to HTTP/S.\n",
    "# Install using 'conda install requests'\n",
    "import requests\n",
    "\n",
    "# PyDAP is an alternative to using the NetCDF library to read data.\n",
    "from pydap.client import open_url\n",
    "from pydap.cas.urs import setup_session\n",
    "\n",
    "import numpy as np\n",
    "\n",
    "# The Code package makes for a nice display of information\n",
    "from IPython.display import Code"
   ]
  },
  {
   "cell_type": "markdown",
   "metadata": {},
   "source": [
    "## dataset_url\n",
    "\n",
    "The dataset_url is the DAP2/DAP4 service endpoint for the dataset.\n",
    "\n",
    "The original publisher of this data is NASA, and NASA requires that all users\n",
    "authenticate in order to access data. Setting up authentication takes additional\n",
    "steps. If you don't wish to configure the authentication, this tutorial may\n",
    "also be used with a copy of the data hosted on test.opendap.org, without a\n",
    "requirement of authenticated access.\n",
    "\n",
    "In order to use the authenticated access to NASA's data:\n",
    "1. See the notebook NASA EDL login or [Configure your client (in this case PyDAP) to authenticate with the appropriate Earthdata Login (EDL) service](https://opendap.github.io/documentation/tutorials/ClientAuthentication.html#_pydap)\n",
    "1. Set `USE_ORIGINAL_SERVICE=True` in the following code block, before you run it.\n",
    "\n",
    "### Login to Earthdata Login using your username and password\n",
    "\n"
   ]
  },
  {
   "cell_type": "code",
   "execution_count": 13,
   "metadata": {
    "ExecuteTime": {
     "end_time": "2023-07-14T03:27:15.637043Z",
     "start_time": "2023-07-14T03:27:15.617955Z"
    },
    "collapsed": false
   },
   "outputs": [
    {
     "name": "stdout",
     "output_type": "stream",
     "text": [
      "Are you authenticated... yes.\n"
     ]
    }
   ],
   "source": [
    "import earthaccess\n",
    "auth = earthaccess.login(strategy=\"interactive\", persist=True)"
   ]
  },
  {
   "cell_type": "code",
   "execution_count": 14,
   "metadata": {
    "ExecuteTime": {
     "end_time": "2023-07-14T03:27:17.319099Z",
     "start_time": "2023-07-14T03:27:17.312513Z"
    },
    "collapsed": false,
    "jupyter": {
     "outputs_hidden": false
    }
   },
   "outputs": [
    {
     "name": "stdout",
     "output_type": "stream",
     "text": [
      "dataset_url:  dap4://opendap.earthdata.nasa.gov/collections/C2036877806-POCLOUD/granules/20220812010000-OSISAF-L3C_GHRSST-SSTsubskin-GOES16-ssteqc_goes16_20220812_010000-v02.0-fv01.0\n"
     ]
    }
   ],
   "source": [
    "USE_ORIGINAL_SERVICE=True\n",
    "\n",
    "if(USE_ORIGINAL_SERVICE):\n",
    "    dataset_url = \"dap4://opendap.earthdata.nasa.gov/collections/C2036877806-POCLOUD/granules/20220812010000-OSISAF-L3C_GHRSST-SSTsubskin-GOES16-ssteqc_goes16_20220812_010000-v02.0-fv01.0\"\n",
    "else:\n",
    "    dataset_url = \"dap4://test.opendap.org/opendap/tutorials/20220812010000-OSISAF-L3C_GHRSST-SSTsubskin-GOES16-ssteqc_goes16_20220812_010000-v02.0-fv01.0.nc\"\n",
    "\n",
    "print (\"dataset_url: \", dataset_url)\n"
   ]
  },
  {
   "cell_type": "markdown",
   "metadata": {},
   "source": [
    "PyDAP, like the NetCDF libraries, uses a protocol convention so that it\n",
    "may easily distinguish between DAP2 protocol URLs (_http://_ & _https://_) and\n",
    "DAP4 protocol URLs (_dap4://_) This means that in order for the DAP4 URL that\n",
    "PyDAP is expecting we need to replace the current http(s) protocol with the DAP4\n",
    "protocol."
   ]
  },
  {
   "cell_type": "code",
   "execution_count": 15,
   "metadata": {
    "ExecuteTime": {
     "end_time": "2023-07-14T03:27:21.358500Z",
     "start_time": "2023-07-14T03:27:21.352111Z"
    },
    "collapsed": false,
    "jupyter": {
     "outputs_hidden": false
    }
   },
   "outputs": [
    {
     "name": "stdout",
     "output_type": "stream",
     "text": [
      "dap4_url:  dap4://opendap.earthdata.nasa.gov/collections/C2036877806-POCLOUD/granules/20220812010000-OSISAF-L3C_GHRSST-SSTsubskin-GOES16-ssteqc_goes16_20220812_010000-v02.0-fv01.0\n"
     ]
    }
   ],
   "source": [
    "if dataset_url.find(\"https\") == 0 :\n",
    "    dap4_url=dataset_url.replace(\"https://\",\"dap4://\",1)\n",
    "else :\n",
    "    dap4_url=dataset_url.replace(\"http://\",\"dap4://\",1)\n",
    "\n",
    "print (\"dap4_url: \", dap4_url)\n"
   ]
  },
  {
   "cell_type": "markdown",
   "metadata": {},
   "source": [
    "### Opening the dataset URL to build a dataset\n",
    "In PyDAP, we use the PyDAP Client to open a remote dataset and retrun it's\n",
    "associated Dataset object. When we call ```pydap.client.open_url()```, the client\n",
    "downloads the DMR (the dap4 metadata response), parses it, and then builds a\n",
    "PyDAP dataset object from it. In the process interpreting the:\n",
    "- data types including endianess\n",
    "- shapes\n",
    "- hierarchy (groups)\n",
    "- relations (maps) of variables and dimensions\n",
    "- variable attributes\n",
    "\n",
    "No data values are downloaded at this point; rather, 'DummyData' of the\n",
    "appropriate type and shape are inserted into the dataset along with the\n",
    "metadata.\n",
    "\n",
    "To utilize the DAP4 protocol one of two things maybe done. Either:\n",
    "- Use the DAP4 protocol scheme, 'dap4://', in the url (canonical)\n",
    "- Specifing the 'protocol scheme' kwarg in the function call:\n",
    "  ```pydap.client.open_url(url, protocol='dap4', **kwargs)```.\n",
    "\n"
   ]
  },
  {
   "cell_type": "code",
   "execution_count": 17,
   "metadata": {
    "ExecuteTime": {
     "end_time": "2023-07-14T03:28:04.305458Z",
     "start_time": "2023-07-14T03:28:03.951252Z"
    }
   },
   "outputs": [
    {
     "ename": "HTTPError",
     "evalue": "502 Bad Gateway\n502 Bad Gateway\n\nBad gateway.\n\n Connection refused  ",
     "output_type": "error",
     "traceback": [
      "\u001B[0;31m---------------------------------------------------------------------------\u001B[0m",
      "\u001B[0;31mHTTPError\u001B[0m                                 Traceback (most recent call last)",
      "Cell \u001B[0;32mIn[17], line 6\u001B[0m\n\u001B[1;32m      1\u001B[0m \u001B[38;5;66;03m# You can use either one of these... The first version will force the use of the DAP4 protocol.\u001B[39;00m\n\u001B[1;32m      2\u001B[0m \u001B[38;5;66;03m# The second will use DAP2 if the URL starts with 'http...' and DAP if it starts with 'dap4...'\u001B[39;00m\n\u001B[1;32m      3\u001B[0m \n\u001B[1;32m      4\u001B[0m \u001B[38;5;66;03m# pydap_ds = pydap.client.open_url(dataset_url, protocol=\"dap4\")\u001B[39;00m\n\u001B[0;32m----> 6\u001B[0m pydap_ds \u001B[38;5;241m=\u001B[39m \u001B[43mopen_url\u001B[49m\u001B[43m(\u001B[49m\u001B[43mdap4_url\u001B[49m\u001B[43m)\u001B[49m\n\u001B[1;32m      8\u001B[0m pydap_ds\u001B[38;5;241m.\u001B[39m_dict\n",
      "File \u001B[0;32m~/opt/anaconda3/envs/opendap/lib/python3.9/site-packages/pydap/client.py:66\u001B[0m, in \u001B[0;36mopen_url\u001B[0;34m(url, application, session, output_grid, timeout, verify, user_charset)\u001B[0m\n\u001B[1;32m     58\u001B[0m \u001B[38;5;28;01mdef\u001B[39;00m \u001B[38;5;21mopen_url\u001B[39m(url, application\u001B[38;5;241m=\u001B[39m\u001B[38;5;28;01mNone\u001B[39;00m, session\u001B[38;5;241m=\u001B[39m\u001B[38;5;28;01mNone\u001B[39;00m, output_grid\u001B[38;5;241m=\u001B[39m\u001B[38;5;28;01mTrue\u001B[39;00m,\n\u001B[1;32m     59\u001B[0m              timeout\u001B[38;5;241m=\u001B[39mDEFAULT_TIMEOUT, verify\u001B[38;5;241m=\u001B[39m\u001B[38;5;28;01mTrue\u001B[39;00m, user_charset\u001B[38;5;241m=\u001B[39m\u001B[38;5;124m'\u001B[39m\u001B[38;5;124mascii\u001B[39m\u001B[38;5;124m'\u001B[39m):\n\u001B[1;32m     60\u001B[0m     \u001B[38;5;124;03m\"\"\"\u001B[39;00m\n\u001B[1;32m     61\u001B[0m \u001B[38;5;124;03m    Open a remote URL, returning a dataset.\u001B[39;00m\n\u001B[1;32m     62\u001B[0m \n\u001B[1;32m     63\u001B[0m \u001B[38;5;124;03m    set output_grid to False to retrieve only main arrays and\u001B[39;00m\n\u001B[1;32m     64\u001B[0m \u001B[38;5;124;03m    never retrieve coordinate axes.\u001B[39;00m\n\u001B[1;32m     65\u001B[0m \u001B[38;5;124;03m    \"\"\"\u001B[39;00m\n\u001B[0;32m---> 66\u001B[0m     dataset \u001B[38;5;241m=\u001B[39m \u001B[43mDAPHandler\u001B[49m\u001B[43m(\u001B[49m\u001B[43murl\u001B[49m\u001B[43m,\u001B[49m\u001B[43m \u001B[49m\u001B[43mapplication\u001B[49m\u001B[43m,\u001B[49m\u001B[43m \u001B[49m\u001B[43msession\u001B[49m\u001B[43m,\u001B[49m\u001B[43m \u001B[49m\u001B[43moutput_grid\u001B[49m\u001B[43m,\u001B[49m\n\u001B[1;32m     67\u001B[0m \u001B[43m                         \u001B[49m\u001B[43mtimeout\u001B[49m\u001B[38;5;241;43m=\u001B[39;49m\u001B[43mtimeout\u001B[49m\u001B[43m,\u001B[49m\u001B[43m \u001B[49m\u001B[43mverify\u001B[49m\u001B[38;5;241;43m=\u001B[39;49m\u001B[43mverify\u001B[49m\u001B[43m,\u001B[49m\n\u001B[1;32m     68\u001B[0m \u001B[43m                         \u001B[49m\u001B[43muser_charset\u001B[49m\u001B[38;5;241;43m=\u001B[39;49m\u001B[43muser_charset\u001B[49m\u001B[43m)\u001B[49m\u001B[38;5;241m.\u001B[39mdataset\n\u001B[1;32m     70\u001B[0m     \u001B[38;5;66;03m# attach server-side functions\u001B[39;00m\n\u001B[1;32m     71\u001B[0m     dataset\u001B[38;5;241m.\u001B[39mfunctions \u001B[38;5;241m=\u001B[39m Functions(url, application, session, timeout\u001B[38;5;241m=\u001B[39mtimeout)\n",
      "File \u001B[0;32m~/opt/anaconda3/envs/opendap/lib/python3.9/site-packages/pydap/handlers/dap.py:56\u001B[0m, in \u001B[0;36mDAPHandler.__init__\u001B[0;34m(self, url, application, session, output_grid, timeout, verify, user_charset)\u001B[0m\n\u001B[1;32m     53\u001B[0m ddsurl \u001B[38;5;241m=\u001B[39m urlunsplit((scheme, netloc, path \u001B[38;5;241m+\u001B[39m \u001B[38;5;124m'\u001B[39m\u001B[38;5;124m.dds\u001B[39m\u001B[38;5;124m'\u001B[39m, query, fragment))\n\u001B[1;32m     54\u001B[0m r \u001B[38;5;241m=\u001B[39m GET(ddsurl, application, session, timeout\u001B[38;5;241m=\u001B[39mtimeout,\n\u001B[1;32m     55\u001B[0m         verify\u001B[38;5;241m=\u001B[39mverify)\n\u001B[0;32m---> 56\u001B[0m \u001B[43mraise_for_status\u001B[49m\u001B[43m(\u001B[49m\u001B[43mr\u001B[49m\u001B[43m)\u001B[49m\n\u001B[1;32m     57\u001B[0m dds \u001B[38;5;241m=\u001B[39m safe_charset_text(r, user_charset)\n\u001B[1;32m     59\u001B[0m dasurl \u001B[38;5;241m=\u001B[39m urlunsplit((scheme, netloc, path \u001B[38;5;241m+\u001B[39m \u001B[38;5;124m'\u001B[39m\u001B[38;5;124m.das\u001B[39m\u001B[38;5;124m'\u001B[39m, query, fragment))\n",
      "File \u001B[0;32m~/opt/anaconda3/envs/opendap/lib/python3.9/site-packages/pydap/net.py:38\u001B[0m, in \u001B[0;36mraise_for_status\u001B[0;34m(response)\u001B[0m\n\u001B[1;32m     35\u001B[0m \u001B[38;5;28;01mdef\u001B[39;00m \u001B[38;5;21mraise_for_status\u001B[39m(response):\n\u001B[1;32m     36\u001B[0m     \u001B[38;5;66;03m# Raise error if status is above 300:\u001B[39;00m\n\u001B[1;32m     37\u001B[0m     \u001B[38;5;28;01mif\u001B[39;00m response\u001B[38;5;241m.\u001B[39mstatus_code \u001B[38;5;241m>\u001B[39m\u001B[38;5;241m=\u001B[39m \u001B[38;5;241m400\u001B[39m:\n\u001B[0;32m---> 38\u001B[0m         \u001B[38;5;28;01mraise\u001B[39;00m HTTPError(\n\u001B[1;32m     39\u001B[0m             detail\u001B[38;5;241m=\u001B[39mresponse\u001B[38;5;241m.\u001B[39mstatus\u001B[38;5;241m+\u001B[39m\u001B[38;5;124m'\u001B[39m\u001B[38;5;130;01m\\n\u001B[39;00m\u001B[38;5;124m'\u001B[39m\u001B[38;5;241m+\u001B[39mresponse\u001B[38;5;241m.\u001B[39mtext,\n\u001B[1;32m     40\u001B[0m             headers\u001B[38;5;241m=\u001B[39mresponse\u001B[38;5;241m.\u001B[39mheaders,\n\u001B[1;32m     41\u001B[0m             comment\u001B[38;5;241m=\u001B[39mresponse\u001B[38;5;241m.\u001B[39mbody\n\u001B[1;32m     42\u001B[0m         )\n\u001B[1;32m     43\u001B[0m     \u001B[38;5;28;01melif\u001B[39;00m response\u001B[38;5;241m.\u001B[39mstatus_code \u001B[38;5;241m>\u001B[39m\u001B[38;5;241m=\u001B[39m \u001B[38;5;241m300\u001B[39m:\n\u001B[1;32m     44\u001B[0m         \u001B[38;5;28;01mtry\u001B[39;00m:\n",
      "\u001B[0;31mHTTPError\u001B[0m: 502 Bad Gateway\n502 Bad Gateway\n\nBad gateway.\n\n Connection refused  "
     ]
    }
   ],
   "source": [
    "# You can use either one of these... The first version will force the use of the DAP4 protocol.\n",
    "# The second will use DAP2 if the URL starts with 'http...' and DAP if it starts with 'dap4...'\n",
    "\n",
    "# pydap_ds = pydap.client.open_url(dataset_url, protocol=\"dap4\")\n",
    "\n",
    "pydap_ds = open_url(dap4_url)\n",
    "\n",
    "pydap_ds._dict\n"
   ]
  },
  {
   "cell_type": "markdown",
   "metadata": {},
   "source": [
    "## Using PyDAP to read values"
   ]
  },
  {
   "cell_type": "code",
   "execution_count": 11,
   "metadata": {
    "ExecuteTime": {
     "end_time": "2023-07-14T03:26:46.327534Z",
     "start_time": "2023-07-14T03:26:46.323706Z"
    }
   },
   "outputs": [
    {
     "ename": "NameError",
     "evalue": "name 'pydap_ds' is not defined",
     "output_type": "error",
     "traceback": [
      "\u001B[0;31m---------------------------------------------------------------------------\u001B[0m",
      "\u001B[0;31mNameError\u001B[0m                                 Traceback (most recent call last)",
      "Cell \u001B[0;32mIn[11], line 1\u001B[0m\n\u001B[0;32m----> 1\u001B[0m \u001B[38;5;28mprint\u001B[39m(\u001B[43mpydap_ds\u001B[49m)\n",
      "\u001B[0;31mNameError\u001B[0m: name 'pydap_ds' is not defined"
     ]
    }
   ],
   "source": [
    "print(pydap_ds)"
   ]
  },
  {
   "cell_type": "code",
   "execution_count": 22,
   "metadata": {},
   "outputs": [
    {
     "name": "stdout",
     "output_type": "stream",
     "text": [
      "Domain Coordinates\n",
      "time (1,)\n",
      "lat (2400,)\n",
      "lon (2400,) \n",
      "\n",
      "Range Variables\n",
      "sea_surface_temperature (1, 2400, 2400)\n",
      "wind_speed (1, 2400, 2400)\n"
     ]
    }
   ],
   "source": [
    "print(\"Domain Coordinates\")\n",
    "print(\"time\", pydap_ds.time.shape)\n",
    "print(\"lat\", pydap_ds.lat.shape)\n",
    "print(\"lon\", pydap_ds.lon.shape,\"\\n\")\n",
    "\n",
    "print(\"Range Variables\")\n",
    "print(\"sea_surface_temperature\", pydap_ds.sea_surface_temperature.shape)\n",
    "print(\"wind_speed\", pydap_ds.wind_speed.shape)\n"
   ]
  },
  {
   "cell_type": "markdown",
   "metadata": {},
   "source": [
    "### PyDAP only reads the data when  needed\n",
    "The above calls to determine the variables shapes, just like the **open_url()**\n",
    "call, do not retrieve data values. When the code *accesses* data\n",
    "values in the cells below the data transferred.\n",
    "\n",
    "This assignment:\n",
    "```\n",
    "    time = pydap_ds.time.data[:]\n",
    "```\n",
    "causes data values to be readread. Note that only time data are being retrieved\n",
    "in this statement."
   ]
  },
  {
   "cell_type": "code",
   "execution_count": 23,
   "metadata": {},
   "outputs": [
    {
     "name": "stdout",
     "output_type": "stream",
     "text": [
      "time (1,) [1313110800] \n",
      "\n"
     ]
    }
   ],
   "source": [
    "# Get and inspect the domain coordinate variable \"time\"\n",
    "time = pydap_ds.time.data[:]\n",
    "print(\"time\",time.shape,time,\"\\n\")"
   ]
  },
  {
   "cell_type": "code",
   "execution_count": 24,
   "metadata": {},
   "outputs": [
    {
     "name": "stdout",
     "output_type": "stream",
     "text": [
      "lat (2400,) :  [-59.975 -59.925 -59.875 ...  59.875  59.925  59.975] \n",
      "\n"
     ]
    }
   ],
   "source": [
    "# Get and inspect the domain coordinate variable \"lat\"\n",
    "lat = pydap_ds.lat.data[:]\n",
    "print(\"lat\",lat.shape,\": \",lat,\"\\n\")"
   ]
  },
  {
   "cell_type": "code",
   "execution_count": 25,
   "metadata": {},
   "outputs": [
    {
     "name": "stdout",
     "output_type": "stream",
     "text": [
      "lon (2400,) \n",
      "\n",
      "[-134.975 -134.925 -134.875 ...  -15.125  -15.075  -15.025] \n",
      "\n"
     ]
    }
   ],
   "source": [
    "# Get and inspect the domain coordinate variable \"lon\"\n",
    "lon = pydap_ds.lon.data[:]\n",
    "print(\"lon\", lon.shape, \"\\n\")\n",
    "print( lon, \"\\n\")"
   ]
  },
  {
   "cell_type": "code",
   "execution_count": 26,
   "metadata": {},
   "outputs": [
    {
     "name": "stdout",
     "output_type": "stream",
     "text": [
      "[[[-32768 -32768 -32768 ... -32768 -32768 -32768]\n",
      "  [-32768 -32768 -32768 ... -32768 -32768 -32768]\n",
      "  [-32768 -32768 -32768 ... -32768 -32768 -32768]\n",
      "  ...\n",
      "  [-32768 -32768 -32768 ... -32768 -32768 -32768]\n",
      "  [-32768 -32768 -32768 ...   1513   1513   1513]\n",
      "  [-32768 -32768 -32768 ...   1345   1345 -32768]]]\n",
      "CPU times: user 568 ms, sys: 348 ms, total: 916 ms\n",
      "Wall time: 6.18 s\n"
     ]
    }
   ],
   "source": [
    "%%time\n",
    "\n",
    "# Get and inspect the range coordinate variable \"sea_surface_temperature\"\n",
    "sst=pydap_ds.sea_surface_temperature.data[:]\n",
    "print(sst)"
   ]
  },
  {
   "cell_type": "code",
   "execution_count": 27,
   "metadata": {
    "scrolled": true
   },
   "outputs": [
    {
     "name": "stdout",
     "output_type": "stream",
     "text": [
      "Before Squeeze, sst.shape (1, 2400, 2400)\n",
      "After Squeeze, sst.shape (2400, 2400)\n"
     ]
    }
   ],
   "source": [
    "#\n",
    "# Here we drop the time dimension\n",
    "# (which is now has size 1) using numpy.squeeze()\n",
    "\n",
    "print(\"Before Squeeze, sst.shape\",sst.shape)\n",
    "sst = np.squeeze(sst)\n",
    "print(\"After Squeeze, sst.shape\",sst.shape)\n",
    "\n",
    "#\n",
    "# Convert to Float32 so that we can meaningfull fill values for BaseMap\n",
    "sst = sst[:].astype(np.float32)\n",
    "\n",
    "# Create FillValues\n",
    "sst[sst < -32000] = np.nan\n",
    "\n"
   ]
  },
  {
   "cell_type": "code",
   "execution_count": 28,
   "metadata": {},
   "outputs": [
    {
     "name": "stdout",
     "output_type": "stream",
     "text": [
      "[[  nan   nan   nan ...   nan   nan   nan]\n",
      " [  nan   nan   nan ...   nan   nan   nan]\n",
      " [  nan   nan   nan ...   nan   nan   nan]\n",
      " ...\n",
      " [  nan   nan   nan ...   nan   nan   nan]\n",
      " [  nan   nan   nan ... 1513. 1513. 1513.]\n",
      " [  nan   nan   nan ... 1345. 1345.   nan]]\n"
     ]
    },
    {
     "data": {
      "text/plain": [
       "{'_FillValue': '-32768',\n",
       " 'long_name': 'sea surface subskin temperature',\n",
       " 'standard_name': 'sea_surface_subskin_temperature',\n",
       " 'units': 'kelvin',\n",
       " 'add_offset': '273.14999999999998',\n",
       " 'scale_factor': '0.01',\n",
       " 'valid_min': '-300',\n",
       " 'valid_max': '4500',\n",
       " 'depth': '1 millimeter',\n",
       " 'source': 'GOES_Imager',\n",
       " 'comment': 'Temperature of the subskin of the ocean'}"
      ]
     },
     "execution_count": 28,
     "metadata": {},
     "output_type": "execute_result"
    }
   ],
   "source": [
    "# looking at the SST data, it's obvious they need to be scaled.\n",
    "print(sst)\n",
    "\n",
    "# The attributes show the values for 'm' and 'b' in 'y = mx + b'\n",
    "pydap_ds.sea_surface_temperature.attributes"
   ]
  },
  {
   "cell_type": "code",
   "execution_count": 29,
   "metadata": {},
   "outputs": [
    {
     "name": "stdout",
     "output_type": "stream",
     "text": [
      "[[   nan    nan    nan ...    nan    nan    nan]\n",
      " [   nan    nan    nan ...    nan    nan    nan]\n",
      " [   nan    nan    nan ...    nan    nan    nan]\n",
      " ...\n",
      " [   nan    nan    nan ...    nan    nan    nan]\n",
      " [   nan    nan    nan ... 288.28 288.28 288.28]\n",
      " [   nan    nan    nan ... 286.6  286.6     nan]]\n"
     ]
    }
   ],
   "source": [
    "# Scale the SST values to get degrees Kelvin\n",
    "\n",
    "scaled_sst = sst * 0.01 + 273.14999999999998\n",
    "print(scaled_sst)"
   ]
  },
  {
   "cell_type": "markdown",
   "metadata": {},
   "source": [
    "### Create Simple Plot"
   ]
  },
  {
   "cell_type": "code",
   "execution_count": null,
   "metadata": {
    "pycharm": {
     "is_executing": true
    }
   },
   "outputs": [],
   "source": [
    "import matplotlib.pyplot as plt\n",
    "\n",
    "plt.pcolormesh(lat, lon, scaled_sst)"
   ]
  }
 ],
 "metadata": {
  "kernelspec": {
   "display_name": "Python 3 (ipykernel)",
   "language": "python",
   "name": "python3"
  },
  "language_info": {
   "codemirror_mode": {
    "name": "ipython",
    "version": 3
   },
   "file_extension": ".py",
   "mimetype": "text/x-python",
   "name": "python",
   "nbconvert_exporter": "python",
   "pygments_lexer": "ipython3",
   "version": "3.11.4"
  }
 },
 "nbformat": 4,
 "nbformat_minor": 4
}
