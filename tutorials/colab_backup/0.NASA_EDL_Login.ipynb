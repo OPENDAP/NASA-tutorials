{
 "cells": [
  {
   "cell_type": "markdown",
   "id": "76a27f3e",
   "metadata": {},
   "source": [
    "## How to authenticate with OPeNDAP servers that NASA runs, including those in the Cloud\n",
    "\n",
    "To read data from NASA's OPeNDAP servers, you first need to do three (simple) things:\n",
    "* Login to Earthdata Login using your username and password\n",
    "* Make a special configuration file (named _~/.dodsrc_) with one important line\n",
    "* And, for access to data in the NASA cloud system, Approve the _Hyrax in the Cloud_ application\n",
    "\n",
    "The following three cells will do those steps (mostly) for you. To start, you need an Earthdata Login\n",
    "username and password. If you already have a login, even if you got that for use with other services - \n",
    "one username and password works for all of the NASA services. If you don't have them, go to\n",
    "__[Earthdata Login](https://www.earthdata.nasa.gov/eosdis/science-system-description/eosdis-components/earthdata-login)__\n",
    "and register. It's free and easy.\n",
    "\n",
    "Copyright (C) 2023 OPeNDAP, Inc. This Jupyter Notebook is made available under the Creative Commons Attribution license 4.0.\n"
   ]
  },
  {
   "cell_type": "markdown",
   "id": "98f4e2c9",
   "metadata": {},
   "source": [
    "### Login to Earthdata Login using your username and password"
   ]
  },
  {
   "cell_type": "code",
   "execution_count": 1,
   "id": "9c1365a8",
   "metadata": {
    "ExecuteTime": {
     "end_time": "2023-07-14T02:24:15.485632Z",
     "start_time": "2023-07-14T02:24:15.282141Z"
    }
   },
   "outputs": [
    {
     "ename": "ModuleNotFoundError",
     "evalue": "No module named 'earthaccess'",
     "output_type": "error",
     "traceback": [
      "\u001B[0;31m---------------------------------------------------------------------------\u001B[0m",
      "\u001B[0;31mModuleNotFoundError\u001B[0m                       Traceback (most recent call last)",
      "Cell \u001B[0;32mIn[1], line 1\u001B[0m\n\u001B[0;32m----> 1\u001B[0m \u001B[38;5;28;01mimport\u001B[39;00m \u001B[38;5;21;01mearthaccess\u001B[39;00m\n\u001B[1;32m      2\u001B[0m auth \u001B[38;5;241m=\u001B[39m earthaccess\u001B[38;5;241m.\u001B[39mlogin(strategy\u001B[38;5;241m=\u001B[39m\u001B[38;5;124m\"\u001B[39m\u001B[38;5;124minteractive\u001B[39m\u001B[38;5;124m\"\u001B[39m, persist\u001B[38;5;241m=\u001B[39m\u001B[38;5;28;01mTrue\u001B[39;00m)\n",
      "\u001B[0;31mModuleNotFoundError\u001B[0m: No module named 'earthaccess'"
     ]
    }
   ],
   "source": [
    "import earthaccess\n",
    "auth = earthaccess.login(strategy=\"interactive\", persist=True)\n",
    "\n",
    "# Thanks to NSIDC for the earthaccess package. See https://github.com/nsidc/earthaccess\n",
    "# for more details."
   ]
  },
  {
   "cell_type": "markdown",
   "id": "4d4f20f9",
   "metadata": {},
   "source": [
    "### Make a special configuration file (named _~/.dodsrc_) with one important line\n",
    "In your home directory, make a file named _.dodsrc_. The leading dot (.) must be there and will make this\n",
    "file invisible (the sometimes confusing convention for 'rc' files). In this file put the line:\n",
    "\n",
    "    HTTP.NETRC=/<your home directory>/.netrc\n",
    "\n",
    "If you also add the line:\n",
    "\n",
    "    HTTP.COOKIES=/<your home directory>/.dapcookies\n",
    "\n",
    "Subsequent interactions with EDL (including ones hidden from you) will happen faster.\n",
    "\n",
    "The shell script `setup_dodsrc.sh` automates this, making and/or editing `~/.dodsrc` only if needed\n"
   ]
  },
  {
   "cell_type": "code",
   "execution_count": 2,
   "id": "03f408ab",
   "metadata": {
    "ExecuteTime": {
     "end_time": "2023-07-14T02:24:45.559159Z",
     "start_time": "2023-07-14T02:24:45.383705Z"
    }
   },
   "outputs": [
    {
     "name": "stdout",
     "output_type": "stream",
     "text": [
      "Your HOME directory is: /Users/jimg\r\n",
      "Found an existing ~/.dodsrc file... and it has HTTP.NETRC set\r\n",
      "The ~/.dodsrc file was not modified\r\n"
     ]
    }
   ],
   "source": [
    "!./setup_dodsrc.sh"
   ]
  },
  {
   "cell_type": "markdown",
   "id": "47afa747",
   "metadata": {},
   "source": [
    "### Approve _Hyrax in the cloud_\n",
    "* Go to https://urs.earthdata.nasa.gov/profile once you have logged in with Earthdata Login. \n",
    "* Click on the Applications --> Authorized applications menu item.\n",
    "* Click on the _Approve More Applications_ at the bottom of the page.\n",
    "* Find/Search for _Hyrax in the cloud_ and _Authorize_ it."
   ]
  },
  {
   "cell_type": "code",
   "execution_count": 3,
   "id": "ad5408d3",
   "metadata": {
    "ExecuteTime": {
     "end_time": "2023-07-14T02:24:49.193109Z",
     "start_time": "2023-07-14T02:24:49.186341Z"
    }
   },
   "outputs": [],
   "source": [
    "import IPython\n",
    "\n",
    "def window_open(url):\n",
    "    IPython.display.display(IPython.display.Javascript('window.open(\"{url}\");'.format(url=url)))"
   ]
  },
  {
   "cell_type": "code",
   "execution_count": 4,
   "id": "52021229",
   "metadata": {
    "ExecuteTime": {
     "end_time": "2023-07-14T02:24:50.477961Z",
     "start_time": "2023-07-14T02:24:50.472856Z"
    }
   },
   "outputs": [
    {
     "ename": "NameError",
     "evalue": "name 'auth' is not defined",
     "output_type": "error",
     "traceback": [
      "\u001B[0;31m---------------------------------------------------------------------------\u001B[0m",
      "\u001B[0;31mNameError\u001B[0m                                 Traceback (most recent call last)",
      "Cell \u001B[0;32mIn[4], line 4\u001B[0m\n\u001B[1;32m      1\u001B[0m \u001B[38;5;66;03m# Approve the 'Hyrax in the cloud' application for use with your account\u001B[39;00m\n\u001B[1;32m      2\u001B[0m \n\u001B[1;32m      3\u001B[0m \u001B[38;5;66;03m# Note, if this URL does not work...\u001B[39;00m\n\u001B[0;32m----> 4\u001B[0m window_open(\u001B[38;5;124mf\u001B[39m\u001B[38;5;124m\"\u001B[39m\u001B[38;5;124mhttps://urs.earthdata.nasa.gov/users/\u001B[39m\u001B[38;5;132;01m{\u001B[39;00mauth\u001B[38;5;241m.\u001B[39musername\u001B[38;5;132;01m}\u001B[39;00m\u001B[38;5;124m/authorized_apps\u001B[39m\u001B[38;5;124m\"\u001B[39m)\n",
      "\u001B[0;31mNameError\u001B[0m: name 'auth' is not defined"
     ]
    }
   ],
   "source": [
    "# Approve the 'Hyrax in the cloud' application for use with your account\n",
    "\n",
    "# Note, if this URL does not work...\n",
    "window_open(f\"https://urs.earthdata.nasa.gov/users/{auth.username}/authorized_apps\")\n",
    "\n",
    "# Remove the comment below and use this this, navigating to the Applications --> Authorized Apps menu item\n",
    "# window_open(f\"https://urs.earthdata.nasa.gov/profile\")"
   ]
  },
  {
   "cell_type": "markdown",
   "id": "e6dbbf18",
   "metadata": {},
   "source": [
    "#### When Hyrax has been approved, you should see...\n",
    "When Hyrax has been approved, you should see _Hyrax in the cloud_ in the list of approved applications. \n",
    "\n",
    "<img src=\"images/Hyrax_auth_app.png\" align=\"left\"/>\n"
   ]
  },
  {
   "cell_type": "code",
   "execution_count": null,
   "id": "fcd20ff8",
   "metadata": {},
   "outputs": [],
   "source": []
  }
 ],
 "metadata": {
  "kernelspec": {
   "display_name": "Python 3 (ipykernel)",
   "language": "python",
   "name": "python3"
  },
  "language_info": {
   "codemirror_mode": {
    "name": "ipython",
    "version": 3
   },
   "file_extension": ".py",
   "mimetype": "text/x-python",
   "name": "python",
   "nbconvert_exporter": "python",
   "pygments_lexer": "ipython3",
   "version": "3.11.4"
  }
 },
 "nbformat": 4,
 "nbformat_minor": 5
}
