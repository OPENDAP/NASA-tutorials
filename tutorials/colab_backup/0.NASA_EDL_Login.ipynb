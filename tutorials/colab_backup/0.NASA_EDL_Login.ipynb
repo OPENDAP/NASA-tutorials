{
 "cells": [
  {
   "cell_type": "markdown",
   "id": "76a27f3e",
   "metadata": {},
   "source": [
    "## How to authenticate with OPeNDAP servers that NASA runs, including those in the Cloud\n",
    "\n",
    "To read data from NASA's OPeNDAP servers, you first need to do three (simple) things:\n",
    "* Login to Earthdata Login using your username and password\n",
    "* Make a special configuration file (named _~/.dodsrc_) with one important line\n",
    "* And, for access to data in the NASA cloud system, Approve the _Hyrax in the Cloud_ application\n",
    "\n",
    "The following three cells will do those steps (mostly) for you. To start, you need an Earthdata Login\n",
    "username and password. If you already have a login, even if you got that for use with other services - \n",
    "one username and password works for all of the NASA services. If you don't have them, go to\n",
    "__[Earthdata Login](https://www.earthdata.nasa.gov/eosdis/science-system-description/eosdis-components/earthdata-login)__\n",
    "and register. It's free and easy.\n",
    "\n",
    "You can run this tutorial in your browser using Colab.<br>\n",
    "\n",
    "<a target=\"_blank\" href=\"https://colab.research.google.com/github/OPENDAP/NASA-tutorials/blob/main/tutorials/colab_backup/0.NASA_EDL_Login.ipynb\">\n",
    "  <img src=\"https://colab.research.google.com/assets/colab-badge.svg\" alt=\"Open In Colab\"/>\n",
    "</a>\n",
    "\n",
    "Copyright (C) 2023 OPeNDAP, Inc. This Jupyter Notebook is made available under the Creative Commons Attribution license 4.0.\n"
   ]
  },
  {
   "cell_type": "code",
   "execution_count": 1,
   "id": "150d8d53",
   "metadata": {},
   "outputs": [
    {
     "name": "stdout",
     "output_type": "stream",
     "text": [
      "Cloning into 'NASA-tutorials'...\n",
      "remote: Enumerating objects: 368, done.\u001B[K\n",
      "remote: Counting objects: 100% (33/33), done.\u001B[K\n",
      "remote: Compressing objects: 100% (25/25), done.\u001B[K\n",
      "remote: Total 368 (delta 18), reused 14 (delta 8), pack-reused 335\u001B[K\n",
      "Receiving objects: 100% (368/368), 4.72 MiB | 1.70 MiB/s, done.\n",
      "Resolving deltas: 100% (183/183), done.\n",
      "Requirement already satisfied: earthaccess in /Users/jimg/opt/miniforge3/envs/nasa-local/lib/python3.11/site-packages (0.5.2)\n",
      "Requirement already satisfied: fsspec>=2022.1 in /Users/jimg/opt/miniforge3/envs/nasa-local/lib/python3.11/site-packages (from earthaccess) (2023.6.0)\n",
      "Requirement already satisfied: multimethod>=1.8 in /Users/jimg/opt/miniforge3/envs/nasa-local/lib/python3.11/site-packages (from earthaccess) (1.9.1)\n",
      "Requirement already satisfied: pqdm>=0.1 in /Users/jimg/opt/miniforge3/envs/nasa-local/lib/python3.11/site-packages (from earthaccess) (0.2.0)\n",
      "Requirement already satisfied: python-cmr>=0.7 in /Users/jimg/opt/miniforge3/envs/nasa-local/lib/python3.11/site-packages (from earthaccess) (0.7.0)\n",
      "Requirement already satisfied: requests<3.0.0,>=2.26 in /Users/jimg/opt/miniforge3/envs/nasa-local/lib/python3.11/site-packages (from earthaccess) (2.31.0)\n",
      "Requirement already satisfied: s3fs<2024,>=2021.11 in /Users/jimg/opt/miniforge3/envs/nasa-local/lib/python3.11/site-packages (from earthaccess) (2023.6.0)\n",
      "Requirement already satisfied: tinynetrc<2.0.0,>=1.3.1 in /Users/jimg/opt/miniforge3/envs/nasa-local/lib/python3.11/site-packages (from earthaccess) (1.3.1)\n",
      "Requirement already satisfied: bounded-pool-executor in /Users/jimg/opt/miniforge3/envs/nasa-local/lib/python3.11/site-packages (from pqdm>=0.1->earthaccess) (0.0.3)\n",
      "Requirement already satisfied: tqdm in /Users/jimg/opt/miniforge3/envs/nasa-local/lib/python3.11/site-packages (from pqdm>=0.1->earthaccess) (4.65.0)\n",
      "Requirement already satisfied: typing-extensions in /Users/jimg/opt/miniforge3/envs/nasa-local/lib/python3.11/site-packages (from pqdm>=0.1->earthaccess) (4.7.1)\n",
      "Requirement already satisfied: charset-normalizer<4,>=2 in /Users/jimg/opt/miniforge3/envs/nasa-local/lib/python3.11/site-packages (from requests<3.0.0,>=2.26->earthaccess) (3.2.0)\n",
      "Requirement already satisfied: idna<4,>=2.5 in /Users/jimg/opt/miniforge3/envs/nasa-local/lib/python3.11/site-packages (from requests<3.0.0,>=2.26->earthaccess) (3.4)\n",
      "Requirement already satisfied: urllib3<3,>=1.21.1 in /Users/jimg/opt/miniforge3/envs/nasa-local/lib/python3.11/site-packages (from requests<3.0.0,>=2.26->earthaccess) (1.26.15)\n",
      "Requirement already satisfied: certifi>=2017.4.17 in /Users/jimg/opt/miniforge3/envs/nasa-local/lib/python3.11/site-packages (from requests<3.0.0,>=2.26->earthaccess) (2023.5.7)\n",
      "Requirement already satisfied: aiobotocore~=2.5.0 in /Users/jimg/opt/miniforge3/envs/nasa-local/lib/python3.11/site-packages (from s3fs<2024,>=2021.11->earthaccess) (2.5.0)\n",
      "Requirement already satisfied: aiohttp!=4.0.0a0,!=4.0.0a1 in /Users/jimg/opt/miniforge3/envs/nasa-local/lib/python3.11/site-packages (from s3fs<2024,>=2021.11->earthaccess) (3.8.4)\n",
      "Requirement already satisfied: botocore<1.29.77,>=1.29.76 in /Users/jimg/opt/miniforge3/envs/nasa-local/lib/python3.11/site-packages (from aiobotocore~=2.5.0->s3fs<2024,>=2021.11->earthaccess) (1.29.76)\n",
      "Requirement already satisfied: wrapt>=1.10.10 in /Users/jimg/opt/miniforge3/envs/nasa-local/lib/python3.11/site-packages (from aiobotocore~=2.5.0->s3fs<2024,>=2021.11->earthaccess) (1.15.0)\n",
      "Requirement already satisfied: aioitertools>=0.5.1 in /Users/jimg/opt/miniforge3/envs/nasa-local/lib/python3.11/site-packages (from aiobotocore~=2.5.0->s3fs<2024,>=2021.11->earthaccess) (0.11.0)\n",
      "Requirement already satisfied: attrs>=17.3.0 in /Users/jimg/opt/miniforge3/envs/nasa-local/lib/python3.11/site-packages (from aiohttp!=4.0.0a0,!=4.0.0a1->s3fs<2024,>=2021.11->earthaccess) (23.1.0)\n",
      "Requirement already satisfied: multidict<7.0,>=4.5 in /Users/jimg/opt/miniforge3/envs/nasa-local/lib/python3.11/site-packages (from aiohttp!=4.0.0a0,!=4.0.0a1->s3fs<2024,>=2021.11->earthaccess) (6.0.4)\n",
      "Requirement already satisfied: async-timeout<5.0,>=4.0.0a3 in /Users/jimg/opt/miniforge3/envs/nasa-local/lib/python3.11/site-packages (from aiohttp!=4.0.0a0,!=4.0.0a1->s3fs<2024,>=2021.11->earthaccess) (4.0.2)\n",
      "Requirement already satisfied: yarl<2.0,>=1.0 in /Users/jimg/opt/miniforge3/envs/nasa-local/lib/python3.11/site-packages (from aiohttp!=4.0.0a0,!=4.0.0a1->s3fs<2024,>=2021.11->earthaccess) (1.9.2)\n",
      "Requirement already satisfied: frozenlist>=1.1.1 in /Users/jimg/opt/miniforge3/envs/nasa-local/lib/python3.11/site-packages (from aiohttp!=4.0.0a0,!=4.0.0a1->s3fs<2024,>=2021.11->earthaccess) (1.4.0)\n",
      "Requirement already satisfied: aiosignal>=1.1.2 in /Users/jimg/opt/miniforge3/envs/nasa-local/lib/python3.11/site-packages (from aiohttp!=4.0.0a0,!=4.0.0a1->s3fs<2024,>=2021.11->earthaccess) (1.3.1)\n",
      "Requirement already satisfied: jmespath<2.0.0,>=0.7.1 in /Users/jimg/opt/miniforge3/envs/nasa-local/lib/python3.11/site-packages (from botocore<1.29.77,>=1.29.76->aiobotocore~=2.5.0->s3fs<2024,>=2021.11->earthaccess) (1.0.1)\n",
      "Requirement already satisfied: python-dateutil<3.0.0,>=2.1 in /Users/jimg/opt/miniforge3/envs/nasa-local/lib/python3.11/site-packages (from botocore<1.29.77,>=1.29.76->aiobotocore~=2.5.0->s3fs<2024,>=2021.11->earthaccess) (2.8.2)\n",
      "Requirement already satisfied: six>=1.5 in /Users/jimg/opt/miniforge3/envs/nasa-local/lib/python3.11/site-packages (from python-dateutil<3.0.0,>=2.1->botocore<1.29.77,>=1.29.76->aiobotocore~=2.5.0->s3fs<2024,>=2021.11->earthaccess) (1.16.0)\n"
     ]
    }
   ],
   "source": [
    "# Clone into the repository\n",
    "! git clone https://github.com/OPENDAP/NASA-tutorials.git\n",
    "# Use pip3 to install earthaccess\n",
    "! pip3 install earthaccess"
   ]
  },
  {
   "cell_type": "markdown",
   "id": "98f4e2c9",
   "metadata": {},
   "source": [
    "### Login to Earthdata Login using your username and password"
   ]
  },
  {
   "cell_type": "code",
   "execution_count": 3,
   "id": "9c1365a8",
   "metadata": {
    "ExecuteTime": {
     "end_time": "2023-07-14T02:24:15.485632Z",
     "start_time": "2023-07-14T02:24:15.282141Z"
    }
   },
   "outputs": [
    {
     "name": "stdout",
     "output_type": "stream",
     "text": [
      "We are already authenticated with NASA EDL\n"
     ]
    }
   ],
   "source": [
    "import earthaccess\n",
    "auth = earthaccess.login(strategy=\"interactive\", persist=True)\n",
    "\n",
    "# Thanks to NSIDC for the earthaccess package. See https://github.com/nsidc/earthaccess\n",
    "# for more details."
   ]
  },
  {
   "cell_type": "markdown",
   "id": "4d4f20f9",
   "metadata": {},
   "source": [
    "### Make a special configuration file (named _~/.dodsrc_) with one important line\n",
    "In your home directory, make a file named _.dodsrc_. The leading dot (.) must be there and will make this\n",
    "file invisible (the sometimes confusing convention for 'rc' files). In this file put the line:\n",
    "\n",
    "    HTTP.NETRC=/<your home directory>/.netrc\n",
    "\n",
    "If you also add the line:\n",
    "\n",
    "    HTTP.COOKIES=/<your home directory>/.dapcookies\n",
    "\n",
    "Subsequent interactions with EDL (including ones hidden from you) will happen faster.\n",
    "\n",
    "The shell script `setup_dodsrc.sh` automates this, making and/or editing `~/.dodsrc` only if needed\n"
   ]
  },
  {
   "cell_type": "code",
   "execution_count": 4,
   "id": "03f408ab",
   "metadata": {
    "ExecuteTime": {
     "end_time": "2023-07-14T02:24:45.559159Z",
     "start_time": "2023-07-14T02:24:45.383705Z"
    }
   },
   "outputs": [
    {
     "name": "stdout",
     "output_type": "stream",
     "text": [
      "Your HOME directory is: /Users/jimg\n",
      "Found an existing ~/.dodsrc file... and it has HTTP.NETRC set\n",
      "The ~/.dodsrc file was not modified\n"
     ]
    }
   ],
   "source": [
    "! ./NASA-tutorials/tutorials/setup_dodsrc.sh"
   ]
  },
  {
   "cell_type": "markdown",
   "id": "47afa747",
   "metadata": {},
   "source": [
    "### Approve _Hyrax in the cloud_\n",
    "* Go to https://urs.earthdata.nasa.gov/profile once you have logged in with Earthdata Login. \n",
    "* Click on the Applications --> Authorized applications menu item.\n",
    "* Click on the _Approve More Applications_ at the bottom of the page.\n",
    "* Find/Search for _Hyrax in the cloud_ and _Authorize_ it."
   ]
  },
  {
   "cell_type": "code",
   "execution_count": 5,
   "id": "ad5408d3",
   "metadata": {
    "ExecuteTime": {
     "end_time": "2023-07-14T02:24:49.193109Z",
     "start_time": "2023-07-14T02:24:49.186341Z"
    }
   },
   "outputs": [],
   "source": [
    "import IPython\n",
    "\n",
    "def window_open(url):\n",
    "    IPython.display.display(IPython.display.Javascript('window.open(\"{url}\");'.format(url=url)))"
   ]
  },
  {
   "cell_type": "code",
   "execution_count": 6,
   "id": "52021229",
   "metadata": {
    "ExecuteTime": {
     "end_time": "2023-07-14T02:24:50.477961Z",
     "start_time": "2023-07-14T02:24:50.472856Z"
    }
   },
   "outputs": [
    {
     "data": {
      "application/javascript": [
       "window.open(\"https://urs.earthdata.nasa.gov/users/jhrg/authorized_apps\");"
      ],
      "text/plain": [
       "<IPython.core.display.Javascript object>"
      ]
     },
     "metadata": {},
     "output_type": "display_data"
    }
   ],
   "source": [
    "# Approve the 'Hyrax in the cloud' application for use with your account\n",
    "\n",
    "# Note, if this URL does not work...\n",
    "window_open(f\"https://urs.earthdata.nasa.gov/users/{auth.username}/authorized_apps\")\n",
    "\n",
    "# Remove the comment below and use this this, navigating to the Applications --> Authorized Apps menu item\n",
    "# window_open(f\"https://urs.earthdata.nasa.gov/profile\")"
   ]
  },
  {
   "cell_type": "markdown",
   "id": "e6dbbf18",
   "metadata": {},
   "source": [
    "#### When Hyrax has been approved, you should see...\n",
    "When Hyrax has been approved, you should see _Hyrax in the cloud_ in the list of approved applications. \n",
    "\n",
    "<img src=\"../images/Hyrax_auth_app.png\" align=\"left\"/>\n"
   ]
  },
  {
   "cell_type": "code",
   "execution_count": null,
   "id": "fcd20ff8",
   "metadata": {},
   "outputs": [],
   "source": []
  }
 ],
 "metadata": {
  "kernelspec": {
   "display_name": "Python 3 (ipykernel)",
   "language": "python",
   "name": "python3"
  },
  "language_info": {
   "codemirror_mode": {
    "name": "ipython",
    "version": 3
   },
   "file_extension": ".py",
   "mimetype": "text/x-python",
   "name": "python",
   "nbconvert_exporter": "python",
   "pygments_lexer": "ipython3",
   "version": "3.11.4"
  }
 },
 "nbformat": 4,
 "nbformat_minor": 5
}
