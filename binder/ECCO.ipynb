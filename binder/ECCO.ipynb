{
 "cells": [
  {
   "cell_type": "markdown",
   "id": "cba3c59f-0eb1-41a1-a531-4cd99d05d8ce",
   "metadata": {},
   "source": [
    "<span style='color:#009999'> <span style='font-family:serif'> <font size=\"15\"> **ECCOv4 from NASA Earth Data Cloud**<span style='color:#0066cc'> \n",
    "\n",
    "<img src=\"img/ECCOv4.png\" alt=\"drawing\" width=\"750\"/>    \n",
    "\n",
    "\n",
    "<span style='color:#0066cc'><font size=\"5\"> **About the \"Estimating the Circulation and Climate of the Ocean\" [ECCO](https://ecco-group.org/) consortium**\n",
    "1. <font size=\"3\"><span style='color:Black'> Uses a combination of assimilated data from (various sources) to constrain the simulated global ocean and atmosphere model.\n",
    "3. <font size=\"3\"><span style='color:Black'> Remains widely used by climate scientists.\n",
    "4. <font size=\"3\"><span style='color:Black'> ECCO belongs to a hierarchy of global models that all share the same grid topology (Cube Sphere), but differ in horizontal resolution. \n",
    "\n",
    "\n",
    "\n",
    "<span style='color:#ff6666'><font size=\"5\">**Requirements**\n",
    "1. <font size=\"3\"><span style='color:Black'> Have a Bearer Token for EarthData in the Cloud (See `GetStarted` Notebook).\n",
    "2. <font size=\"3\"><span style='color:Black'> Upload the Bearer Token from local file `token.json`\n",
    "\n",
    "\n",
    "\n",
    "<font size=\"3\"><span style='color:Black'> This notebook makes use of [xarray](https://xarray.dev/) with [pydap](https://pydap.github.io/pydap/) as an  engine` to enable parallelism. However, this notebook also provides OPeNDAP savy approach that can accelerate scientific workflows when remote dataset are available via Hyrax in the Cloud (cloud OPeNDAP urls).\n",
    "\n",
    "\n",
    " <span style='color:#ff6666'><font size=\"5\"> **Objectives**\n",
    " \n",
    " \n",
    "- <font size=\"3\"><span style='color:Black'> Demostrate how to use NASA's `Common Metadata Repository` ([CMR](https://cmr.earthdata.nasa.gov/search)) to find `cloud OPeNDAP URLS` associated with a collection.\n",
    "- <font size=\"3\"><span style='color:Black'> Demonstrate the use of `Constraint Expressions` to reduce metadata during Virtual Dataset creation\n",
    "- <font size=\"3\"><span style='color:Black'> Use <span style='color:#ff6666'>**PyDAP**<span style='color:black'>'s `consolidate_metadata` to accelerate data cube creation via `xarray.open_mfdataset`.\n",
    "- <font size=\"3\"><span style='color:Black'> Demonstrate an advanced workflow for remote access and plotting of **Level 4** with complex Topology ECCOv4 Data available via Hyrax in the Cloud / cloud OPeNDAP.\n",
    "\n",
    "\n",
    "\n",
    "<span style='color:#ff6666'><font size=\"5\">**Browsing Data**:\n",
    "\n",
    "<font size=\"3\"><span style='color:Black'> Broad information about the dataset can be found in the PODAAC website (see [here](https://podaac.jpl.nasa.gov/cloud-datasets?view=list&ids=Projects&values=ECCO)).\n",
    "\n",
    "\n",
    "<font size=\"3\"><span style='color:Black'> Some Collections of interest can be found following the links below:\n",
    "\n",
    "- <font size=\"3\"> [Native grid](https://podaac.jpl.nasa.gov/dataset/ECCO_L4_GEOMETRY_LLC0090GRID_V4R4)\n",
    "- <font size=\"3\"> [Temperature and Salinity](https://podaac.jpl.nasa.gov/dataset/ECCO_L4_TEMP_SALINITY_LLC0090GRID_MONTHLY_V4R4)\n",
    "- <font size=\"3\"> [Velocities](https://podaac.jpl.nasa.gov/dataset/ECCO_L4_OCEAN_VEL_LLC0090GRID_MONTHLY_V4R4)\n",
    "- <font size=\"3\"> [Mixed layer depth](https://podaac.jpl.nasa.gov/dataset/ECCO_L4_MIXED_LAYER_DEPTH_LLC0090GRID_MONTHLY_V4R4)\n"
   ]
  },
  {
   "cell_type": "code",
   "execution_count": null,
   "id": "dd69f13e-1576-46cc-88bf-8484bf53788f",
   "metadata": {},
   "outputs": [],
   "source": [
    "import matplotlib.pyplot as plt\n",
    "import numpy as np\n",
    "import requests\n",
    "from pydap.client import open_url\n",
    "from pydap.net import create_session\n",
    "import json\n",
    "import cartopy.crs as ccrs\n",
    "import xarray as xr\n",
    "import datetime as dt\n",
    "from pydap.client import consolidate_metadata"
   ]
  },
  {
   "cell_type": "markdown",
   "id": "b1e83ab4-130c-44b9-a2aa-3a4b3c9560dd",
   "metadata": {},
   "source": [
    "<span style='color:#ff6666'><font size=\"5\">**Finding Cloud OPeNDAP URLs with NASA's CMR**:\n",
    "\n",
    "<span style='font-family:serif'> <font size=\"3\"><span style='color:Black'> Below we illustrate how to find OPeNDAP URLs via the **CMR**\n",
    "\n",
    "<span style='color:#0066cc'><font size=\"3.5\"> **To find (cloud) OPeNDAP URL you will need:**\n",
    "\n",
    "* One of `Collection Concept ID` or `dataset DOI`\n",
    "* Time Range\n",
    "\n",
    "\n",
    "Here, we will use the Collection Concept ID associated with the [Temperature and Salinity](https://podaac.jpl.nasa.gov/dataset/ECCO_L4_TEMP_SALINITY_LLC0090GRID_MONTHLY_V4R4). For example:\n",
    "\n",
    "<img src=\"img/ECCO_conceptID_doi.png\" alt=\"drawing\" width=\"750\"/>    \n",
    "\n",
    "\n",
    "\n"
   ]
  },
  {
   "cell_type": "code",
   "execution_count": null,
   "id": "941feb00-5526-4aba-a80f-2f1706b74fca",
   "metadata": {},
   "outputs": [],
   "source": [
    "session = requests.Session()"
   ]
  },
  {
   "cell_type": "code",
   "execution_count": null,
   "id": "f77714f7-6446-4323-bf8e-1cae2c87d95e",
   "metadata": {},
   "outputs": [],
   "source": [
    "# CMR API base url\n",
    "cmrurl='https://cmr.earthdata.nasa.gov/search/'\n",
    "doi = '10.5067/ECL5M-OTS44'\n",
    "doisearch = cmrurl + 'collections.json?doi=' + doi\n",
    "print(doisearch)\n",
    "\n",
    "concept_id = session.get(doisearch).json()['feed']['entry'][0]['id']\n",
    "print(concept_id)"
   ]
  },
  {
   "cell_type": "markdown",
   "id": "82158ccc-ead9-4e3c-8fcf-450f20ddfdeb",
   "metadata": {},
   "source": [
    "<span style='font-family:serif'> <font size=\"5.5\"><span style='color:#0066cc'> **Specify time range**\n",
    "\n",
    "<font size=\"3\"><span style='color:Black'> This dataset covers `01-01-1992` to `01-18-2018`. \n"
   ]
  },
  {
   "cell_type": "code",
   "execution_count": null,
   "id": "7886174c-77b2-48bf-a823-d9f761e98274",
   "metadata": {},
   "outputs": [],
   "source": [
    "start_date =  dt.datetime(1992, 1, 1)\n",
    "end_date = dt.datetime(2017, 12, 31)\n",
    "\n",
    "print(start_date,end_date,sep='\\n')\n",
    "\n",
    "dt_format = '%Y-%m-%dT%H:%M:%SZ' # format requirement for datetime search\n",
    "temporal_str = start_date.strftime(dt_format) + ',' + end_date.strftime(dt_format)\n",
    "print(temporal_str)"
   ]
  },
  {
   "cell_type": "markdown",
   "id": "75ede2ce-5c11-40e9-8f83-a8f7bceb0147",
   "metadata": {},
   "source": [
    "<span style='font-family:serif'> <font size=\"5.5\"><span style='color:#0066cc'> **Get all available cloud OPeNDAP URLs via CMR**\n",
    "\n",
    "The cell below will search/find all OPeNDAP URLs associated with the Collection concept ID.\n",
    "\n",
    "The results wll be stored in the variable `granules_urls`.\n",
    "    "
   ]
  },
  {
   "cell_type": "code",
   "execution_count": null,
   "id": "389b7664-3c7e-4f3c-8bed-eb950dddebab",
   "metadata": {},
   "outputs": [],
   "source": [
    "def get_opendap_urls(concept_id, time_range, _session=None):\n",
    "    \"\"\"\n",
    "    Queries NASA's `Common Metadata Repository` to identify all OPeNDAP URLS\n",
    "    given collection concept ID and temporal time range.\n",
    "    \"\"\"\n",
    "    cmr_url = 'https://cmr.earthdata.nasa.gov/search/granules'\n",
    "    if not _session:\n",
    "        _session = requests.Session() \n",
    "    cmr_response = _session.get(cmr_url, params={'concept_id': concept_id,'temporal': time_range,'page_size': 500}, headers={'Accept': 'application/json'})\n",
    "    granules = cmr_response.json()['feed']['entry']\n",
    "    granules_urls = []\n",
    "    \n",
    "    # Filter and only retain the OPeNDAP URLs\n",
    "    for granule in granules:\n",
    "        item = next((item['href'] for item in granule['links'] if \"opendap\" in item[\"href\"]), None)\n",
    "        if item != None:\n",
    "            granules_urls.append(item)\n",
    "    return granules_urls"
   ]
  },
  {
   "cell_type": "code",
   "execution_count": null,
   "id": "75b72f62-98bc-44c1-b87d-dba29c67e37d",
   "metadata": {},
   "outputs": [],
   "source": [
    "%%time\n",
    "granules_urls = get_opendap_urls(concept_id, temporal_str)"
   ]
  },
  {
   "cell_type": "code",
   "execution_count": null,
   "id": "592016ce-36cf-4298-b017-17fee64b5c19",
   "metadata": {},
   "outputs": [],
   "source": [
    "print(\"WE found: \", len(granules_urls), \" total Cloud OPeNDAP URLS associated with this collection!\")"
   ]
  },
  {
   "cell_type": "markdown",
   "id": "6ba694bc-4613-4689-a1aa-0d03b1dad47f",
   "metadata": {},
   "source": [
    "<span style='font-family:serif'> <font size=\"5.5\"><span style='color:#0066cc'> **Pydap Approach**\n",
    "\n",
    "<span style='font-family:serif'> <font size=\"3.5\"> We can use <span style='color:#ff6666'>**PyDAP**<span style='color:black'> to inspect the metadata associated with each of the urls.\n",
    "\n",
    "<span style='font-family:serif'> <font size=\"3.5\">Below we illustrate the use of <span style='color:#ff6666'>**PyDAP**<span style='color:black'> with Token authentication to access OPeNDAP metadata.\n",
    "\n",
    "<span style='font-family:serif'> <font size=\"3.5\"> This will be useful when accessing OPeNDAP URLs via xarray.\n"
   ]
  },
  {
   "cell_type": "markdown",
   "id": "df65130f-8837-41d9-8d70-5342f55d94c8",
   "metadata": {},
   "source": [
    "<span style='font-family:serif'> <font size=\"5.5\"><span style='color:#0066cc'> **Import Token Authorization and create Session**\n",
    " \n"
   ]
  },
  {
   "cell_type": "code",
   "execution_count": null,
   "id": "322889ad-dc54-429c-bf48-35476d53bf8a",
   "metadata": {},
   "outputs": [],
   "source": [
    "# load token json data\n",
    "with open('token.json', 'r') as fp:\n",
    "    token = json.load(fp)\n",
    "\n",
    "# pass Token Authorization to a new Session.\n",
    "my_session = create_session(session_kwargs=token)"
   ]
  },
  {
   "cell_type": "markdown",
   "id": "fa0042cb-053d-424b-971c-ed8b0d325725",
   "metadata": {},
   "source": [
    "<span style='font-family:serif'> <font size=\"5.5\"><span style='color:#0066cc'> **Lazy access to remote data via pydap's client API**\n",
    "\n",
    "<font size=\"3\"> <span style='color:#ff6666'>**PyDAP**<span style='color:black'> exploits the OPeNDAP's separation between metadata and data, to create lazy dataset objects that point to the data. These lazy objects contain all the attributes detailed in OPeNDAP's metadata files (DMR)"
   ]
  },
  {
   "cell_type": "code",
   "execution_count": null,
   "id": "5ced1396-be08-4a0b-b487-c430781bd247",
   "metadata": {},
   "outputs": [],
   "source": [
    "%%time\n",
    "pyds = open_url(granules_urls[0], session=my_session, protocol='dap4')"
   ]
  },
  {
   "cell_type": "code",
   "execution_count": null,
   "id": "1bb158d1-7184-4d07-b152-bfb9f6300ffc",
   "metadata": {},
   "outputs": [],
   "source": [
    "pyds.tree()"
   ]
  },
  {
   "cell_type": "markdown",
   "id": "e438a621-f061-4904-a719-af9be89c1dc7",
   "metadata": {},
   "source": [
    "<span style='font-family:serif'> <font size=\"5.5\"><span style='color:#0066cc'> **Not all Variables are of interest. Lets use Constraint Expressions!**\n",
    "\n",
    "<font size=\"3\">  Consider that we only want\n",
    "- `THETA`\n",
    "- `SALT`\n",
    "\n",
    "<font size=\"3\">  and their `dimensions`. "
   ]
  },
  {
   "cell_type": "code",
   "execution_count": null,
   "id": "935e5a1c-a039-402a-95ea-9891ce021371",
   "metadata": {},
   "outputs": [],
   "source": [
    "print(\"dimension of THETA:\" , pyds['THETA'].dims)\n",
    "print(\"dimension of SALT:\" , pyds['SALT'].dims)"
   ]
  },
  {
   "cell_type": "markdown",
   "id": "30604933-d567-4562-976f-c0f29da4b178",
   "metadata": {},
   "source": [
    "<span style='color:#0066cc'><font size=\"5\"> **Construct Constraint Expression**\n",
    "\n",
    "<font size=\"3\"> That will instruct the Hyrax Data Server to only give use our desired variables.\n",
    "\n",
    "<font size=\"3\">  This variable will be named `CE`. We will add it to each (granule) cloud OPeNDAP URL. THis will allow us to construct a `Data Cube`\n"
   ]
  },
  {
   "cell_type": "code",
   "execution_count": null,
   "id": "2f7c2bf1-7c58-4c04-9238-bc166151c3f8",
   "metadata": {},
   "outputs": [],
   "source": [
    "dims = pyds['SALT'].dims\n",
    "Vars = ['/THETA', '/SALT'] + dims\n",
    "\n",
    "# Below construct Contraint Expression\n",
    "CE = \"?dap4.ce=\"+(\";\").join(Vars)\n",
    "print(\"constraint expression: \", CE)"
   ]
  },
  {
   "cell_type": "code",
   "execution_count": null,
   "id": "0b2b4dc7-08b0-4cfd-8d50-de940384aee4",
   "metadata": {},
   "outputs": [],
   "source": [
    "print(\" Each Cloud OPeNDAP URL will look like: \\n\", granules_urls[0]+CE)"
   ]
  },
  {
   "cell_type": "markdown",
   "id": "af091d8f-1a3f-452a-95f7-6f59dca948c6",
   "metadata": {},
   "source": [
    "<span style='color:#0066cc'><font size=\"5\"> **Construct DAP4 URLS:**\n",
    " \n",
    "\n",
    "<font size=\"3\"> A DAP4 url begins with `dap4` as a scheme. \n",
    "\n",
    "<font size=\"3\"> **NOTE**: This is only for xarray and <span style='color:#ff6666'>**PyDAP**<span style='color:black'>.\n"
   ]
  },
  {
   "cell_type": "code",
   "execution_count": null,
   "id": "e87755fb-790e-472f-aeac-1f8d7840875a",
   "metadata": {},
   "outputs": [],
   "source": [
    "new_urls = [url.replace(\"https\", \"dap4\")+CE for url in granules_urls]\n",
    "new_urls[:4]"
   ]
  },
  {
   "cell_type": "markdown",
   "id": "b8b87a23-0730-4f08-b757-038200fa54ae",
   "metadata": {},
   "source": [
    "<span style='color:#0066cc'><font size=\"5\"> **Consolidate all URL Metadata Associated with the Data URL of cloud OPeNDAP URLs**\n",
    "\n",
    "<font size=\"3\"> You can construct a persistent reference to all Cloud OPeNDAP urls for later use!!!! \n"
   ]
  },
  {
   "cell_type": "code",
   "execution_count": null,
   "id": "6c3b123c-fad5-420d-b8fd-eb27eb903fd7",
   "metadata": {},
   "outputs": [],
   "source": [
    "cached_session = create_session(use_cache=True, session_kwargs=token)"
   ]
  },
  {
   "cell_type": "code",
   "execution_count": null,
   "id": "920caf59-adce-4e9c-bcbf-87ce4a194c13",
   "metadata": {},
   "outputs": [],
   "source": [
    "# clear just in case\n",
    "cached_session.cache.clear()"
   ]
  },
  {
   "cell_type": "code",
   "execution_count": null,
   "id": "9841212a-5bf6-4e17-984e-4248a88604e3",
   "metadata": {},
   "outputs": [],
   "source": [
    "%%time\n",
    "consolidate_metadata(new_urls, cached_session)"
   ]
  },
  {
   "cell_type": "markdown",
   "id": "c8faf11a-f0a0-4a04-b4e3-2df3b5bbdf08",
   "metadata": {},
   "source": [
    "## Create a datacube with xarray and pydap as an engine!\n",
    "\n",
    "\n"
   ]
  },
  {
   "cell_type": "code",
   "execution_count": null,
   "id": "34f9bc4c-b691-48e4-9be5-4019927aeac2",
   "metadata": {},
   "outputs": [],
   "source": [
    "%%time\n",
    "ds = xr.open_mfdataset(new_urls, engine='pydap', session=cached_session, parallel=True, combine='nested', concat_dim='time')"
   ]
  },
  {
   "cell_type": "code",
   "execution_count": null,
   "id": "2bcc4c18-648f-405a-becb-5f8850872ab1",
   "metadata": {},
   "outputs": [],
   "source": [
    "ds"
   ]
  },
  {
   "cell_type": "markdown",
   "id": "3f4c4416-2513-4509-a53e-42731c90637a",
   "metadata": {},
   "source": [
    "## Download some data\n",
    "\n",
    "So far, only metadata has been downloaded. Below we plot some data in the NorthAtlantic ocean\n",
    "\n",
    "\n",
    "\n"
   ]
  },
  {
   "cell_type": "code",
   "execution_count": null,
   "id": "eb3337c8-6617-4ea8-bdda-6877bb78f3fa",
   "metadata": {},
   "outputs": [],
   "source": [
    "%%time\n",
    "ds['THETA'].isel(time=0, k=0, tile=2).plot(cmap='RdBu_r', vmin=-4, vmax=30);"
   ]
  },
  {
   "cell_type": "code",
   "execution_count": null,
   "id": "8daa6999-0822-4b1a-893d-6b1689ab03fa",
   "metadata": {},
   "outputs": [],
   "source": [
    "ds['THETA'].isel(time=0, k=0, tile=2).attrs"
   ]
  },
  {
   "cell_type": "code",
   "execution_count": null,
   "id": "29fbbe3d-f4d0-4c73-ab97-15672011fc2a",
   "metadata": {},
   "outputs": [],
   "source": []
  }
 ],
 "metadata": {
  "kernelspec": {
   "display_name": "Python 3 (ipykernel)",
   "language": "python",
   "name": "python3"
  },
  "language_info": {
   "codemirror_mode": {
    "name": "ipython",
    "version": 3
   },
   "file_extension": ".py",
   "mimetype": "text/x-python",
   "name": "python",
   "nbconvert_exporter": "python",
   "pygments_lexer": "ipython3",
   "version": "3.11.12"
  }
 },
 "nbformat": 4,
 "nbformat_minor": 5
}
