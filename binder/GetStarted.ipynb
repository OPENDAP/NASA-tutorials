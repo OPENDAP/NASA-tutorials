{
 "cells": [
  {
   "cell_type": "markdown",
   "id": "9c7cc75e-6d95-4ffe-8227-25810e878b9a",
   "metadata": {},
   "source": [
    "<span style='color:#009999'> <span style='font-family:serif'> <font size=\"15\"> **Getting Started:<span style='color:#0066cc'> Setting EARTHDATA Access**\n",
    "    \n",
    "    \n",
    "<img src=\"img/EarthData.png\" alt=\"drawing\" width=\"750\"/>    \n",
    " \n",
    "\n",
    "\n",
    " <span style='color:#ff6666'><font size=\"5\"> **Requirements**\n",
    "1. <font size=\"3\">Go to the [Login Page](https://urs.earthdata.nasa.gov/home) and set up a Username and Password.\n",
    "2. <font size=\"3\">Generate a Bearer Token.\n",
    "3. <font size=\"3\">Copy the Bearer Token onto clipboard.\n",
    "\n",
    "<img src=\"img/EDLtoken.png\" alt=\"drawing\" width=\"750\"/>    \n",
    "\n",
    "\n",
    "\n",
    "\n",
    " <span style='color:#ff6666'><font size=\"5\"> **Objectives**\n",
    "- <font size=\"3\"><span style='color:Black'>To demonstrate remote access via token to Earthdata.\n",
    "- <font size=\"3\"><span style='color:Black'>To store locally the EDL `token` to be used in other notebooks.\n",
    "\n"
   ]
  },
  {
   "cell_type": "code",
   "execution_count": 26,
   "id": "1c0ccde6-3f2e-4bef-9d31-92a48064c64a",
   "metadata": {},
   "outputs": [],
   "source": [
    "import matplotlib.pyplot as plt\n",
    "import numpy as np\n",
    "import requests\n",
    "from pydap.client import open_url\n",
    "import json\n",
    "from getpass import getpass\n",
    "from pydap.net import create_session\n"
   ]
  },
  {
   "cell_type": "markdown",
   "id": "51b2528c-a02f-44cf-b826-408da0307dd7",
   "metadata": {},
   "source": [
    "<span style='color:#ff6666'><font size=\"6.5\"> **EDL Token**:<font size=\"5\">  <span style='color:#0066cc'>\n",
    "\n",
    "<font size=\"3\"> The cell below asks to paste your token, taken from your EDL account. No personal information will be displayed"
   ]
  },
  {
   "cell_type": "code",
   "execution_count": 27,
   "id": "2a407105-4897-44bf-827a-db7d5bd94e99",
   "metadata": {},
   "outputs": [
    {
     "name": "stdin",
     "output_type": "stream",
     "text": [
      "EDL Token Value:  ········\n"
     ]
    }
   ],
   "source": [
    "# This gets the EDL token from the users keyboard.\n",
    "edl_token = getpass(\"EDL Token Value: \")"
   ]
  },
  {
   "cell_type": "markdown",
   "id": "8c85a8c2-0c00-4ba1-a729-486762146a2a",
   "metadata": {},
   "source": [
    "<span style='color:#ff6666'><font size=\"6.5\"> **MUST DO**:<font size=\"5\"> <span style='color:#0066cc'>**Store Token locally to facilitate import**\n",
    "\n",
    "<font size=\"3\"> The code below will store the `Token Credentials` needed to access EarthData via pydap locally in a file called `token.json`.\n",
    "\n",
    "<font size=\"3\"> Data in `token.json` can now be imported in other notebooks for use when accessing Earthdata via Hyrax in the Cloud / cloud OPeNDAP.\n"
   ]
  },
  {
   "cell_type": "code",
   "execution_count": 28,
   "id": "58dc2577-8feb-491f-82cf-b986b5d015c6",
   "metadata": {},
   "outputs": [],
   "source": [
    "credentials = {\"token\": edl_token}\n",
    "\n",
    "with open('token.json', 'w') as fp:\n",
    "    json.dump(credentials, fp)"
   ]
  },
  {
   "cell_type": "markdown",
   "id": "88226257-eede-4b80-9954-7821bd88fdf3",
   "metadata": {},
   "source": [
    "<span style='font-family:serif'> <font size=\"5.5\"><span style='color:#0066cc'> **Access EARTHDATA**\n",
    "\n",
    "<font size=\"3\"><span style='color:Black'> We now demonstrate how to import the token data and use it to access data via pure pydap (one Cloud OPeNDAP URL)\n",
    "\n",
    "<font size=\"3\"><span style='color:Black'> For now, lets look into Sea Surface Temperature data from GHRSST for 2022-08-12. The URL is provided below.\n",
    "\n"
   ]
  },
  {
   "cell_type": "code",
   "execution_count": 20,
   "id": "25e602ab-541a-45a9-88f4-8bd9a5e8fa18",
   "metadata": {},
   "outputs": [],
   "source": [
    "# load token json data\n",
    "with open('token.json', 'r') as fp:\n",
    "    token = json.load(fp)\n",
    "\n",
    "\n",
    "# pass Token Authorization to a new Session.\n",
    "my_session = create_session(session_kwargs=token)"
   ]
  },
  {
   "cell_type": "code",
   "execution_count": 25,
   "id": "02376ef7-1e87-4aaf-b708-0d249bcbb558",
   "metadata": {},
   "outputs": [
    {
     "name": "stdout",
     "output_type": "stream",
     "text": [
      "dataset_url:  https://opendap.earthdata.nasa.gov/collections/C2036877806-POCLOUD/granules/20220812010000-OSISAF-L3C_GHRSST-SSTsubskin-GOES16-ssteqc_goes16_20220812_010000-v02.0-fv01.0\n"
     ]
    }
   ],
   "source": [
    "dataset_url = \"https://opendap.earthdata.nasa.gov/collections/C2036877806-POCLOUD/granules/20220812010000-OSISAF-L3C_GHRSST-SSTsubskin-GOES16-ssteqc_goes16_20220812_010000-v02.0-fv01.0\"\n",
    "print (\"dataset_url: \", dataset_url)"
   ]
  },
  {
   "cell_type": "code",
   "execution_count": 22,
   "id": "fa983632-de6f-4355-a1ea-9c08477d8714",
   "metadata": {},
   "outputs": [
    {
     "name": "stdout",
     "output_type": "stream",
     "text": [
      "CPU times: user 19.5 ms, sys: 4.19 ms, total: 23.7 ms\n",
      "Wall time: 7.43 s\n"
     ]
    }
   ],
   "source": [
    "%%time\n",
    "dataset = open_url(dataset_url, session=my_session, protocol=\"dap4\")"
   ]
  },
  {
   "cell_type": "code",
   "execution_count": 23,
   "id": "b948809b-7fa2-46ea-857e-60fb88db1b0c",
   "metadata": {},
   "outputs": [
    {
     "name": "stdout",
     "output_type": "stream",
     "text": [
      ".20220812010000-OSISAF-L3C_GHRSST-SSTsubskin-GOES16-ssteqc_goes16_20220812_010000-v02.0-fv01.0.nc\n",
      "├──wind_speed\n",
      "├──lon\n",
      "├──or_longitude\n",
      "├──time\n",
      "├──sses_standard_deviation\n",
      "├──sst_dtime\n",
      "├──solar_zenith_angle\n",
      "├──sea_ice_fraction\n",
      "├──l2p_flags\n",
      "├──sources_of_adi\n",
      "├──aerosol_dynamic_indicator\n",
      "├──sea_surface_temperature\n",
      "├──quality_level\n",
      "├──dt_analysis\n",
      "├──satellite_zenith_angle\n",
      "├──lat\n",
      "├──adi_dtime_from_sst\n",
      "├──or_latitude\n",
      "└──sses_bias\n"
     ]
    }
   ],
   "source": [
    "dataset.tree()"
   ]
  },
  {
   "cell_type": "markdown",
   "id": "36079c1f-8ecc-4f4d-a0a2-6c2ea0e1589d",
   "metadata": {},
   "source": [
    "<span style='font-family:serif'> <font size=\"5.5\"><span style='color:#0066cc'> **Inspect data without downloading**\n",
    "\n",
    "<font size=\"3.5\"> The `tree` method from <span style='color:#ff6666'>**PyDAP**<span style='color:black'> allows user to inspect all variables available from the dataset, without actually openning the dataset or downloading it into your machine.\n",
    "\n",
    "<font size=\"3.5\"> The dataset behaves like a directory and so you can \n",
    "- <font size=\"3.5\"> navigate the dataset\n",
    "- <font size=\"3.5\"> inspect the metadata of dataset, variables\n",
    "- <font size=\"3.5\"> inspect the shape of variables, (uncompressed) memory space, etc"
   ]
  },
  {
   "cell_type": "code",
   "execution_count": null,
   "id": "28551462-d8e5-4eed-877a-0905ef7f8470",
   "metadata": {},
   "outputs": [],
   "source": []
  }
 ],
 "metadata": {
  "kernelspec": {
   "display_name": "Python 3 (ipykernel)",
   "language": "python",
   "name": "python3"
  },
  "language_info": {
   "codemirror_mode": {
    "name": "ipython",
    "version": 3
   },
   "file_extension": ".py",
   "mimetype": "text/x-python",
   "name": "python",
   "nbconvert_exporter": "python",
   "pygments_lexer": "ipython3",
   "version": "3.11.12"
  }
 },
 "nbformat": 4,
 "nbformat_minor": 5
}
