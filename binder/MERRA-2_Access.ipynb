{
 "cells": [
  {
   "cell_type": "markdown",
   "id": "6da4043c-df41-48e1-8a1f-4d210000b35c",
   "metadata": {},
   "source": [
    "<span style='color:#0066cc'> <span style='font-family:serif'> <font size=\"13\"> **Accessing MERRA-2 Data with OPeNDAP**<span style='color:#0066cc'>\n",
    "\n",
    "<font size=\"3\"><span style='color:Black'> MERRA (Modern-Era Retrospective analysis for Research and Applications) data, \n",
    "\n",
    "<span style='color:#0066cc'><font size=\"5\"> **About the \"Modern-Era Retrospective analysis for Research and Applications\" Version 2 [MERRA-2](https://gmao.gsfc.nasa.gov/reanalysis/MERRA-2/docs/) data**\n",
    "1. <font size=\"3\"><span style='color:Black'> Assimilates observation types not available to its predecessor, MERRA, and includes updates to the Goddard Earth Observing System (GEOS) model and analysis scheme so as to provide a viable ongoing climate analysis beyond MERRA’s terminus.\n",
    "2. <font size=\"3\"><span style='color:Black'>The Modern-Era Retrospective Analysis for Research and Applications, version 2 (MERRA-2), is the latest atmospheric reanalysis of the modern satellite era produced by NASA’s Global Modeling and Assimilation Office (GMAO).\n",
    "3. <font size=\"3\"><span style='color:Black'> Other improvements in the quality of MERRA-2 compared with MERRA include the reduction of some spurious trends and jumps related to changes in the observing system and reduced biases and imbalances in aspects of the water cycle.\n",
    "\n",
    "**Source**: https://doi.org/10.1175/JCLI-D-16-0758.1\n",
    "\n",
    "\n",
    "\n",
    "<span style='color:#ff6666'><font size=\"5\">**Requirements**\n",
    "1. <font size=\"3\"><span style='color:Black'> Have a Bearer Token for EarthData in the Cloud (See `GetStarted` Notebook).\n",
    "2. <font size=\"3\"><span style='color:Black'> Upload the Bearer Token from local file `token.json`\n",
    "\n"
   ]
  },
  {
   "cell_type": "code",
   "execution_count": null,
   "id": "0cb3a702-a107-4915-8073-70f888457d60",
   "metadata": {},
   "outputs": [],
   "source": [
    "from pydap.net import create_session\n",
    "from pydap.client import get_cmr_urls, consolidate_metadata, open_url\n",
    "import xarray as xr\n",
    "import datetime as dt\n",
    "import json\n",
    "import matplotlib.pyplot as plt"
   ]
  },
  {
   "cell_type": "markdown",
   "id": "1483a0af-00db-4e55-bdd8-6421f092819c",
   "metadata": {},
   "source": [
    "<span style='font-family:serif'> <font size=\"5.5\"><span style='color:#0066cc'> **Import Token Authorization and create Session**\n",
    " \n",
    "\n",
    "\n",
    "<font size=\"3.5\"> Here we use the Bearer Token to create an authenticated session. The Bearer token should be stored on a local json file, after completed the `GetStarted` Notebook.\n",
    "\n"
   ]
  },
  {
   "cell_type": "code",
   "execution_count": null,
   "id": "1d34b47b-ee24-4156-8b50-6921c930f3b2",
   "metadata": {},
   "outputs": [],
   "source": [
    "# load token json data\n",
    "with open('token.json', 'r') as fp:\n",
    "    token = json.load(fp)\n",
    "\n",
    "# pass Token Authorization to a new Session.\n",
    "my_session = create_session(use_cache=True, session_kwargs=token)"
   ]
  },
  {
   "cell_type": "markdown",
   "id": "6fa58b8e-9361-4a13-b858-9f1bc1df6b78",
   "metadata": {},
   "source": [
    "<span style='font-family:serif'> <font size=\"5.5\"><span style='color:#0066cc'> **Query opendap urls using NASA's CMR API**"
   ]
  },
  {
   "cell_type": "code",
   "execution_count": null,
   "id": "2df161ab-be74-495c-abe4-68162b0bb309",
   "metadata": {},
   "outputs": [],
   "source": [
    "merra2_doi = \"10.5067/VJAFPLI1CSIV\" # available e.g. GES DISC MERRA-2 documentation \n",
    "                                    # https://disc.gsfc.nasa.gov/datasets/M2T1NXSLV_5.12.4/summary?keywords=MERRA-2"
   ]
  },
  {
   "cell_type": "markdown",
   "id": "a0f010ad-7b8a-40a5-8f64-a4bc5388fe9c",
   "metadata": {},
   "source": [
    "<span style='font-family:serif'> <font size=\"5.5\"><span style='color:#0066cc'> **Filter data via Temporal Searches**\n",
    "\n",
    "<font size=\"3.5\"> Users can specify date ranges  NASA's CMR can \n",
    "\n",
    "<font size=\"3.5\"> There are two ways to specify formats.\n",
    "\n",
    "    1. Using `python`'s datetime package. It follows the `year-month-day` formatting\n",
    "    2. A string with the following format: YYYY-MM-DDTHH:MM:SSZ\n"
   ]
  },
  {
   "cell_type": "code",
   "execution_count": null,
   "id": "c34dccba-837c-4cd9-9edd-5d7c78883d3b",
   "metadata": {},
   "outputs": [],
   "source": [
    "time_range=[dt.datetime(2023, 1, 1), dt.datetime(2023, 1, 31)] # One month of data"
   ]
  },
  {
   "cell_type": "code",
   "execution_count": null,
   "id": "85e8921a-8a93-4866-8eb8-9a55c88622fc",
   "metadata": {},
   "outputs": [],
   "source": [
    "url_limits = 100 # controls the max number of urls returns. Default is 50"
   ]
  },
  {
   "cell_type": "code",
   "execution_count": null,
   "id": "8dd2e5a7-34f3-4465-8222-03220c611c93",
   "metadata": {},
   "outputs": [],
   "source": [
    "urls = get_cmr_urls(doi=merra2_doi,time_range=time_range, limit=url_limits) # you can incread the limit of results\n",
    "len(urls)"
   ]
  },
  {
   "cell_type": "markdown",
   "id": "bb7ec883-33d3-425e-8ac3-d159ac7751f6",
   "metadata": {},
   "source": [
    "### You can inspect OPeNDAP's server data request form by clicking on each individual data url."
   ]
  },
  {
   "cell_type": "code",
   "execution_count": null,
   "id": "0d810290-fe77-47f8-a3e7-e921fcdc6a4d",
   "metadata": {},
   "outputs": [],
   "source": [
    "urls[:2]"
   ]
  },
  {
   "cell_type": "markdown",
   "id": "27cf2167-07a0-496a-99b2-cad87f656b18",
   "metadata": {},
   "source": [
    "<span style='font-family:serif'> <font size=\"5.5\"><span style='color:#0066cc'> **Server-side Metadata reduction**\n",
    "\n",
    "<font size=\"3.5\"> Many of NASA's files contain too many variables, beyond those of interest, and processing their metadata can add unnecessary time to data analysis workflows. Below, we use pydap directly to add query parameters (Constraint Expressions) that instruct the remote NASA OPeNDAP server which variables of interest we need.\n"
   ]
  },
  {
   "cell_type": "code",
   "execution_count": null,
   "id": "593be3c9-79d1-4e64-9bda-a086594ad6d4",
   "metadata": {},
   "outputs": [],
   "source": [
    "new_urls = [url.replace(\"https\", \"dap4\") for url in urls] # "
   ]
  },
  {
   "cell_type": "code",
   "execution_count": null,
   "id": "49553a6e-4a56-4157-add7-99c5207a4d45",
   "metadata": {},
   "outputs": [],
   "source": [
    "pyds = open_url(new_urls[0], session=my_session)"
   ]
  },
  {
   "cell_type": "code",
   "execution_count": null,
   "id": "14e9a463-2516-4608-b75a-4bed21647955",
   "metadata": {},
   "outputs": [],
   "source": [
    "print(\"All variables within dataset: \\n\", list(pyds.variables()))"
   ]
  },
  {
   "cell_type": "code",
   "execution_count": null,
   "id": "d73f6cc3-702f-4a73-b9f9-001979b324b7",
   "metadata": {},
   "outputs": [],
   "source": [
    "Keep_vars = [\"/T2M\", \"/U2M\", \"/V2M\", \"/SLP\"] # this are the variables we want\n",
    "dims = list(set([dim for var in Keep_vars for dim in pyds[var].dims]))  # retain their dimensions\n",
    "Keep_vars += dims\n",
    "CE=\"?dap4.ce=\" + (';').join(Keep_vars) # need to add this to each url"
   ]
  },
  {
   "cell_type": "code",
   "execution_count": null,
   "id": "c124d538-ff65-4ae5-9888-075795205cb2",
   "metadata": {},
   "outputs": [],
   "source": [
    "opendap_urls = [url + CE for url in new_urls]\n",
    "opendap_urls[:2]"
   ]
  },
  {
   "cell_type": "markdown",
   "id": "40675601-b507-437d-b98c-724ed78b8fb3",
   "metadata": {},
   "source": [
    "<span style='font-family:serif'> <font size=\"5.5\"><span style='color:#0066cc'> **Consolidate metadata**\n",
    "\n",
    "<font size=\"3.5\"> All URLs belonging to the same Collection share many identical variables and metadata. The following function\n",
    "reduces redundant metadata\n"
   ]
  },
  {
   "cell_type": "code",
   "execution_count": null,
   "id": "72b63320-37b3-417b-8694-ea975b014982",
   "metadata": {},
   "outputs": [],
   "source": [
    "my_session.cache.clear()"
   ]
  },
  {
   "cell_type": "code",
   "execution_count": null,
   "id": "7d0296c5-0d1a-4af1-8e14-32d1e26acd0a",
   "metadata": {},
   "outputs": [],
   "source": [
    "%%time\n",
    "consolidate_metadata(opendap_urls, concat_dim='time', session=my_session)"
   ]
  },
  {
   "cell_type": "code",
   "execution_count": null,
   "id": "9e79d70e-6859-4a0c-a016-03da3dd80667",
   "metadata": {},
   "outputs": [],
   "source": [
    "len(my_session.cache.urls())"
   ]
  },
  {
   "cell_type": "markdown",
   "id": "f4a6fc06-8f5e-4c4c-b81b-77942223a4ef",
   "metadata": {},
   "source": [
    "<span style='font-family:serif'> <font size=\"5.5\"><span style='color:#0066cc'> **Create Virtual Aggregated Dataset with Xarray**\n",
    "\n",
    "<font size=\"3.5\"> Now, you can create a virtually aggregated view of the dataset that is ready to analyze with Xarray and Pydap as an engine.\n"
   ]
  },
  {
   "cell_type": "code",
   "execution_count": null,
   "id": "6bddeee4-564d-4cea-ac12-74a0f7a5ea60",
   "metadata": {},
   "outputs": [],
   "source": [
    "%%time\n",
    "ds = xr.open_mfdataset(opendap_urls, engine='pydap', session=my_session, combine='nested', concat_dim=\"time\", chunks={\"time\":1})\n",
    "ds"
   ]
  },
  {
   "cell_type": "markdown",
   "id": "901cad1d-408d-4ba9-8168-b781cc77451b",
   "metadata": {},
   "source": [
    "<span style='font-family:serif'> <font size=\"5.5\"><span style='color:#0066cc'> **Making a plot downloads data.**\n",
    "\n",
    "<font size=\"3.5\"> <span style='color:#ff6666'>**NOTE**<span style='color:black'>: When creating the dataset, we specify a chunking in time. Without this, even just downloading a sime time unit downloads the whole (remote) chunk of data (24 time values). \n"
   ]
  },
  {
   "cell_type": "code",
   "execution_count": null,
   "id": "a6f39ca9-89a6-422d-ae3d-ad32a3f89933",
   "metadata": {},
   "outputs": [],
   "source": [
    "%%time\n",
    "fig, ax = plt.subplots(figsize=(12, 6))\n",
    "ds['SLP'].isel(time=0).plot();"
   ]
  },
  {
   "cell_type": "markdown",
   "id": "ed069db4-73c8-4ce7-9de2-ec8c05fa4a1c",
   "metadata": {},
   "source": [
    "<font size=\"3.5\"> You can inspect the OPeNDAP url used by Xarray to download data below:"
   ]
  },
  {
   "cell_type": "code",
   "execution_count": null,
   "id": "6d98d720-0641-4f1c-82e8-fb786bf89c46",
   "metadata": {},
   "outputs": [],
   "source": [
    "my_session.cache.urls()[0].replace(\"%5B\", \"[\").replace(\"%5D\", \"]\").replace(\"%3A\", \":\") # decoded"
   ]
  },
  {
   "cell_type": "markdown",
   "id": "6c49abc3-09e5-49ad-b042-1abb75d441c0",
   "metadata": {},
   "source": [
    "<font size=\"5\"> <span style='color:#ff6666'> **dap responses** <span style='color:black'> \n",
    "\n",
    "<font size=\"3.5\"> (`.dap`) are OPeNDAP-native, binary-encoded, chunked data streamed over `http` by remote OPeNDAP servers and decoded by `Pydap` to turn them into NumPy arrays. OPeNDAP's `dap` responses are part of the DAP4 protocol and, unlike NetCDF4 datasets, are streamable."
   ]
  },
  {
   "cell_type": "code",
   "execution_count": null,
   "id": "a2cd5ba5-d921-407d-bd57-d788415297ba",
   "metadata": {},
   "outputs": [],
   "source": []
  }
 ],
 "metadata": {
  "kernelspec": {
   "display_name": "Python 3 (ipykernel)",
   "language": "python",
   "name": "python3"
  },
  "language_info": {
   "codemirror_mode": {
    "name": "ipython",
    "version": 3
   },
   "file_extension": ".py",
   "mimetype": "text/x-python",
   "name": "python",
   "nbconvert_exporter": "python",
   "pygments_lexer": "ipython3",
   "version": "3.11.12"
  }
 },
 "nbformat": 4,
 "nbformat_minor": 5
}
