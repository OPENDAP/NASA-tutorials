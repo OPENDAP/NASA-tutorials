{
 "cells": [
  {
   "cell_type": "markdown",
   "id": "8037008f-bb3b-4b75-87dc-f3aec44d0a6a",
   "metadata": {},
   "source": [
    "<span style='color:#0066cc'> <span style='font-family:serif'> <font size=\"13\"> **Access OSCAR Data with OPeNDAP**<span style='color:#0066cc'>\n",
    "\n",
    "<span style='color:#0066cc'><font size=\"5\"> **About the \"Ocean Surface Current Analyses Real-time (OSCAR)\" Version 2 [OSCAR v2.0](https://podaac.jpl.nasa.gov/dataset/OSCAR_L4_OC_FINAL_V2.0) data**\n",
    "1. <font size=\"3\"><span style='color:Black'> The OSCAR project produces global near-surface current analyses computed from satellite\n",
    "observations: ocean surface topography, ocean vector winds and sea surface temperature.\n",
    "2. <font size=\"3\"><span style='color:Black'> OSCAR ocean mixed layer velocities are calculated from satellite-sensed sea surface height gradients, ocean vector winds, and sea surface temperature gradients using a simplified physical model for geostrophy, Ekman, and thermal wind dynamics\n",
    "\n",
    "\n",
    "\n",
    "<span style='color:#ff6666'><font size=\"5\">**Requirements**\n",
    "1. <font size=\"3\"><span style='color:Black'> Have a Bearer Token for EarthData in the Cloud (See `GetStarted` Notebook).\n",
    "2. <font size=\"3\"><span style='color:Black'> Upload the Bearer Token from local file `token.json`\n",
    "3. <font size=\"3\"><span style='color:Black'> Data covers 1993-Jan-01 to 2022-Aug-05\n",
    "\n",
    "**Source**: [OSCAR V2 Guide](https://deotb6e7tfubr.cloudfront.net/s3-edaf5da92e0ce48fb61175c28b67e95d/podaac-ops-cumulus-docs.s3.us-west-2.amazonaws.com/oscar/open/L4/oscar_v2.0/docs/oscarv2guide.pdf?A-userid=None&Expires=1748882398&Signature=YjGSgWfKq3IJpfsxqkNdyEOGGjQpGiWKPXaf3TGQgSAIbQM9mnO-g0jAvx4VHJoFHPHxI7nH0x-AtJLO6ipi3U3TT4CddFhQxn3ZMhj50UdEFsCkARm8hP2j32evdbddhSbu3TJFwZkaXLvW0FjMaRI3xufHzS~Gw8hP-ubPS0SFHgO8jwRMaDA71V85WMk0~wQyPh25pbDAcg24wPmw19vgAJ-jhRprGbKj5QcVHa~4cOwQg537lIDWPYZiPFWZBooVvJTWw1a0ohpjZa98kUsZ6Yo7TRThHDwnxnnT5eriazhGessgi-Ibz-RQSTFoDc~3gpRDWq~C1Q-SmP-ItA__&Key-Pair-Id=K299NXKZAIEHE5), and https://podaac.jpl.nasa.gov/dataset/OSCAR_L4_OC_FINAL_V2.0\n",
    "\n",
    "\n",
    "    "
   ]
  },
  {
   "cell_type": "code",
   "execution_count": null,
   "id": "28e35dfc-768d-43f8-b1f4-1321fdfa8565",
   "metadata": {},
   "outputs": [],
   "source": [
    "from pydap.net import create_session\n",
    "from pydap.client import get_cmr_urls, consolidate_metadata, open_url\n",
    "import xarray as xr\n",
    "import datetime as dt\n",
    "import numpy as np\n",
    "import json\n",
    "import matplotlib.pyplot as plt"
   ]
  },
  {
   "cell_type": "markdown",
   "id": "b766c90b-d699-4963-8c10-686b9b8cb6be",
   "metadata": {},
   "source": [
    "<span style='font-family:serif'> <font size=\"5.5\"><span style='color:#0066cc'> **Import Token Authorization and create Session**\n",
    " \n",
    "\n",
    "\n",
    "<font size=\"3.5\"> Here we use the Bearer Token to create an authenticated session. The Bearer token should be stored on a local json file, after completed the `GetStarted` Notebook.\n",
    "\n"
   ]
  },
  {
   "cell_type": "code",
   "execution_count": null,
   "id": "b93255fc-053d-4fd7-9426-226e7f63fde8",
   "metadata": {},
   "outputs": [],
   "source": [
    "# load token json data\n",
    "with open('token.json', 'r') as fp:\n",
    "    token = json.load(fp)\n",
    "\n",
    "# pass Token Authorization to a new Session.\n",
    "my_session = create_session(use_cache=True, session_kwargs=token)\n",
    "my_session.cache.clear()"
   ]
  },
  {
   "cell_type": "markdown",
   "id": "0f6bbee8-b2d3-4bb4-85d6-5789c4cab38f",
   "metadata": {},
   "source": [
    "<span style='font-family:serif'> <font size=\"5.5\"><span style='color:#0066cc'> **Query opendap urls using NASA's CMR API**"
   ]
  },
  {
   "cell_type": "code",
   "execution_count": null,
   "id": "5f18fa09-19c5-4f5d-9465-1f2150956a25",
   "metadata": {},
   "outputs": [],
   "source": [
    "oscar_ccid = \"C2098858642-POCLOUD\""
   ]
  },
  {
   "cell_type": "markdown",
   "id": "77c0b18a-f7c0-409b-bc70-6a73c4592ac8",
   "metadata": {},
   "source": [
    "<span style='font-family:serif'> <font size=\"5.5\"><span style='color:#0066cc'> **Filter data via Temporal Searches**\n",
    "\n",
    "<font size=\"3.5\"> Users can specify date ranges  NASA's CMR can \n",
    "\n",
    "<font size=\"3.5\"> There are two ways to specify formats.\n",
    "\n",
    "    1. Using `python`'s datetime package. It follows the `year-month-day` formatting\n",
    "    2. A string with the following format: YYYY-MM-DDTHH:MM:SSZ\n"
   ]
  },
  {
   "cell_type": "code",
   "execution_count": null,
   "id": "4446cb20-bb1b-403f-ac7c-d63c27f67fcb",
   "metadata": {},
   "outputs": [],
   "source": [
    "time_range=[dt.datetime(2020, 1, 1), dt.datetime(2020, 1, 31)] # One month of data"
   ]
  },
  {
   "cell_type": "code",
   "execution_count": null,
   "id": "65d9242d-b7c3-4068-b38b-c1d9232cbfcd",
   "metadata": {},
   "outputs": [],
   "source": [
    "url_limits = 100 # controls the max number of urls returns. Default is 50"
   ]
  },
  {
   "cell_type": "code",
   "execution_count": null,
   "id": "77302c47-af7d-4376-aba5-463f5547dfbb",
   "metadata": {},
   "outputs": [],
   "source": [
    "urls = get_cmr_urls(ccid=oscar_ccid,time_range=time_range, limit=url_limits) # you can incread the limit of results\n",
    "len(urls)"
   ]
  },
  {
   "cell_type": "code",
   "execution_count": null,
   "id": "b9b0af05-20ef-4028-a435-e13836606d57",
   "metadata": {},
   "outputs": [],
   "source": [
    "dap4_urls = [url.replace(\"https\", \"dap4\") for url in urls]"
   ]
  },
  {
   "cell_type": "markdown",
   "id": "e786e8eb-1090-4b2b-a0e8-9cce16437c27",
   "metadata": {},
   "source": [
    "<span style='font-family:serif'> <font size=\"5.5\"><span style='color:#0066cc'> **Consolidate metadata**\n",
    "\n",
    "<font size=\"3.5\"> All URLs belonging to the same Collection share many identical variables and metadata. The following function\n",
    "reduces redundant metadata\n",
    "\n",
    "\n",
    "OSCAR data - dimensions and coordinates (e.g. `lat` and `latitude`) do not match in name exactly. As a result, to speed up the process of dataset generation, we will need to specify an extra key parameter `set_maps=True` below.\n"
   ]
  },
  {
   "cell_type": "code",
   "execution_count": null,
   "id": "e0608d28-8219-44a4-96e5-27dd1bf8a002",
   "metadata": {},
   "outputs": [],
   "source": [
    "%%time\n",
    "consolidate_metadata(dap4_urls, concat_dim='time', safe_mode=False, set_maps=True, session=my_session)"
   ]
  },
  {
   "cell_type": "markdown",
   "id": "fa4e90fa-ee56-4ab2-88da-84e6e4e0eb54",
   "metadata": {},
   "source": [
    "<span style='font-family:serif'> <font size=\"5.5\"><span style='color:#0066cc'> **Create Virtual Aggregated Dataset with Xarray**\n",
    "\n",
    "<font size=\"3.5\"> Now, you can create a virtually aggregated view of the dataset that is ready to analyze with Xarray and Pydap as an engine.\n"
   ]
  },
  {
   "cell_type": "code",
   "execution_count": null,
   "id": "bf70ae42-6546-435a-b97f-ba88b1a2cf67",
   "metadata": {},
   "outputs": [],
   "source": [
    "%%time\n",
    "ds = xr.open_mfdataset(dap4_urls, engine='pydap', session=my_session, combine='nested', concat_dim=\"time\")\n",
    "ds"
   ]
  },
  {
   "cell_type": "markdown",
   "id": "c44bf0ac-9a97-42a9-81a3-728e6cf107e8",
   "metadata": {},
   "source": [
    "<span style='font-family:serif'> <font size=\"5.5\"><span style='color:#0066cc'> **Sample by coordinates**\n",
    "\n",
    "<font size=\"3.5\"> The dimensions `latitude`, `longitude` do not match the name of the coordinates, despite both being 1D arrays. However, to use these we can load the coordinates `lat` and `lonat  into memory and query the indexes longitude and latitude that match our coordinates of interest.\n",
    "\n",
    "<font size=\"3.5\"> We will need:\n",
    "- <font size=\"3.5\"> Load `lat`, `lon` into memory, using the xarray `.load()` method\n",
    "- <font size=\"3.5\"> Check the valid range for each `lat` and `lon` coordinate. In the case of OSCAR data, `lon>=0`. If our in situ data has negative values, we will need to transform lon values to match the OSCAR value ranges.\n",
    "- <font size=\"3.5\"> Identify the indexes of `longitude` and `longitude` that match our coordinate values\n",
    "- <font size=\"3.5\"> Sample the data using these indexes."
   ]
  },
  {
   "cell_type": "code",
   "execution_count": null,
   "id": "a1e3f0b7-3f73-4b6d-9d52-9446b9d9c23a",
   "metadata": {},
   "outputs": [],
   "source": [
    "# start with these fake in situ coordinate data of interest\n",
    "insitu_lat = np.array([0, 10, -20, 70, -50, 32, 65])\n",
    "insitu_lon = np.array([0, 120, 200, 300, 100, 100, 260])"
   ]
  },
  {
   "cell_type": "markdown",
   "id": "a0112ba9-cdca-4f5c-8dc9-5fd7d72ca0f9",
   "metadata": {},
   "source": [
    "<span style='font-family:serif'> <font size=\"5.5\"><span style='color:#0066cc'> **load coordinates into memory**\n"
   ]
  },
  {
   "cell_type": "code",
   "execution_count": null,
   "id": "3f4d86d1-5d57-495e-b065-0e1356641dae",
   "metadata": {},
   "outputs": [],
   "source": [
    "lon, lat = ds['lon'].load(), ds['lat'].load()"
   ]
  },
  {
   "cell_type": "code",
   "execution_count": null,
   "id": "160431ad-52f6-4aa8-92de-afc3c9d91aa2",
   "metadata": {},
   "outputs": [],
   "source": [
    "ds"
   ]
  },
  {
   "cell_type": "markdown",
   "id": "4c2e36a5-8109-464a-952a-7e30b191ba56",
   "metadata": {},
   "source": [
    "<span style='font-family:serif'> <font size=\"5.5\"><span style='color:#0066cc'> **Find closes value match**\n"
   ]
  },
  {
   "cell_type": "code",
   "execution_count": null,
   "id": "6fa024ca-e211-4e9f-8850-a0c35f7a960f",
   "metadata": {},
   "outputs": [],
   "source": [
    "def find_closest_indices(array, target_values):\n",
    "    \"\"\"\n",
    "    Finds the indices of the closest matching values in a NumPy array for multiple target values.\n",
    "\n",
    "    Args:\n",
    "        array (np.ndarray): The NumPy array to search in.\n",
    "        target_values (list or np.ndarray): A list or array of target values.\n",
    "\n",
    "    Returns:\n",
    "        np.ndarray: A NumPy array containing the indices of the closest matching values.\n",
    "    \"\"\"\n",
    "    indices = []\n",
    "    for target_value in target_values:\n",
    "        abs_diff = np.abs(array - target_value)\n",
    "        closest_index = np.argmin(abs_diff)\n",
    "        indices.append(closest_index)\n",
    "    return np.array(indices)"
   ]
  },
  {
   "cell_type": "code",
   "execution_count": null,
   "id": "bc20388c-61d5-416c-ad49-8b36d7598575",
   "metadata": {},
   "outputs": [],
   "source": [
    "lon.values"
   ]
  },
  {
   "cell_type": "markdown",
   "id": "44716001-898b-46df-88ca-153e4ba79f55",
   "metadata": {},
   "source": [
    "### check these produce sensible values"
   ]
  },
  {
   "cell_type": "code",
   "execution_count": null,
   "id": "1f7740f8-e1e1-4051-8eac-9f3c0aa6f6e9",
   "metadata": {},
   "outputs": [],
   "source": [
    "Ilon = find_closest_indices(lon.values, insitu_lon)\n",
    "Ilat = find_closest_indices(lat.values, insitu_lat)"
   ]
  },
  {
   "cell_type": "code",
   "execution_count": null,
   "id": "81debb19-cdbd-4429-a06e-7834283f8676",
   "metadata": {},
   "outputs": [],
   "source": [
    "ds['lat'].isel(latitude=Ilat)"
   ]
  },
  {
   "cell_type": "code",
   "execution_count": null,
   "id": "8212e7e7-e8ef-4f61-ae8f-272a5a40ba8a",
   "metadata": {},
   "outputs": [],
   "source": [
    "ds['lon'].isel(longitude=Ilon) "
   ]
  },
  {
   "cell_type": "markdown",
   "id": "67a9feab-faf0-4b6f-b72e-ca8d0a020778",
   "metadata": {},
   "source": [
    "<span style='font-family:serif'> <font size=\"5.5\"><span style='color:#0066cc'> **Sample variables of interest**\n",
    "\n",
    "<font size=\"3.5\"> Will create a list of all `U` and `V` velocities that span the entire time range of interesst, and that match a specific `latitude`, `longitude` pair. \n"
   ]
  },
  {
   "cell_type": "code",
   "execution_count": null,
   "id": "4a3ebdb9-76df-4e0e-a9c4-8bf9ac8956bc",
   "metadata": {},
   "outputs": [],
   "source": [
    "%%time\n",
    "U, V = [], []\n",
    "for i in range(len(Ilat)):\n",
    "    U += [ds['u'].isel(latitude=Ilat[i], longitude=Ilon[i]).load()]\n",
    "    V += [ds['v'].isel(latitude=Ilat[i], longitude=Ilon[i]).load()]\n"
   ]
  },
  {
   "cell_type": "markdown",
   "id": "d41ba9b3-4246-458d-8bd9-58ba2f870bd1",
   "metadata": {},
   "source": [
    "<span style='font-family:serif'> <font size=\"5.5\"><span style='color:#0066cc'> **Inspect sampled data**\n",
    "\n",
    "<font size=\"3.5\"> Each element of the `U`, `V` list yields a `u` and `v` velocity DataArray that spans all times of interest (time-dependent). Each element of the `u` contains information about the coordinates it was sampled from!\n",
    "\n",
    "<font size=\"3.5\"> For example: check the first element\n"
   ]
  },
  {
   "cell_type": "code",
   "execution_count": null,
   "id": "a9781618-2d57-426f-a1ae-180e80f622cf",
   "metadata": {},
   "outputs": [],
   "source": [
    "u, v = U[0], V[0]"
   ]
  },
  {
   "cell_type": "code",
   "execution_count": null,
   "id": "c04946b3-2f85-4359-bf9a-3bc721a4eda9",
   "metadata": {},
   "outputs": [],
   "source": [
    "u"
   ]
  },
  {
   "cell_type": "code",
   "execution_count": null,
   "id": "e534739a-66be-4905-bc2a-6fd277de505e",
   "metadata": {},
   "outputs": [],
   "source": [
    "for i in range(len(U)):\n",
    "    print('longitude: ', U[i].coords['lon'].values, \" ,latitude:\", U[i].coords['lat'].values)\n",
    "          "
   ]
  },
  {
   "cell_type": "code",
   "execution_count": null,
   "id": "207a3375-26c4-4054-837a-cc748b976d60",
   "metadata": {},
   "outputs": [],
   "source": [
    "u.time.values"
   ]
  },
  {
   "cell_type": "code",
   "execution_count": null,
   "id": "490e83f1-76f4-4c7e-b9ef-babfc8b0e91b",
   "metadata": {},
   "outputs": [],
   "source": []
  }
 ],
 "metadata": {
  "kernelspec": {
   "display_name": "Python 3 (ipykernel)",
   "language": "python",
   "name": "python3"
  },
  "language_info": {
   "codemirror_mode": {
    "name": "ipython",
    "version": 3
   },
   "file_extension": ".py",
   "mimetype": "text/x-python",
   "name": "python",
   "nbconvert_exporter": "python",
   "pygments_lexer": "ipython3",
   "version": "3.11.12"
  }
 },
 "nbformat": 4,
 "nbformat_minor": 5
}
