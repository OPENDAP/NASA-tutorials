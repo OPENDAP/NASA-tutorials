{
 "cells": [
  {
   "cell_type": "markdown",
   "id": "ad81a8b8-a724-4321-a8c0-d03b4883ebfa",
   "metadata": {},
   "source": [
    "<span style='color:#009999'> <span style='font-family:serif'> <font size=\"15\"> **Accessing PACE data on NASA's OPeNDAP on-prem server**<span style='color:#0066cc'> \n",
    "\n",
    "<img src=\"img/PACE.png\" alt=\"drawing\" width=\"750\"/>    \n",
    "\n",
    "\n",
    "<span style='color:#ff6666'><font size=\"5\">**Requirements**\n",
    "1. <font size=\"3\"><span style='color:Black'> Have a Bearer Token for EarthData in the Cloud (See `GetStarted` Notebook).\n",
    "2. <font size=\"3\"><span style='color:Black'> Upload the Bearer Token from local file `token.json`\n",
    "\n",
    "\n",
    "<font size=\"3\"><span style='color:Black'> For completion, this notebook acessess data from PACE via OPeNDAP on-premisses server. The workflow is identical to accessing data on Hyrax in the Cloud.\n",
    "\n",
    "\n",
    "<span style='color:#ff6666'><font size=\"5\"> **Objectives**\n",
    " \n",
    " \n",
    "- <font size=\"3\"><span style='color:Black'> Demostrate how to use NASA's `Common Metadata Repository` ([CMR](https://cmr.earthdata.nasa.gov/search)) to find `OPeNDAP URLS` associated with a collection.\n",
    "- <font size=\"3\"><span style='color:Black'> Demonstrate the use of `Constraint Expressions` to reduce metadata during Virtual Dataset creation\n",
    "- <font size=\"3\"><span style='color:Black'> Use `pydap`'s `consolidate_metadata` to accelerate data cube creation via `xarray.open_mfdataset`.\n",
    "- <font size=\"3\"><span style='color:Black'> Demonstrate an advanced workflow for remote data access and plotting of **Level 3** PACE data concerning surface `chlorophyll a`.\n",
    "\n",
    "\n",
    "<span style='color:#ff6666'><font size=\"5\">**Browsing Data**:\n",
    "\n",
    "<font size=\"3\"><span style='color:Black'> We are interested in PACE OCI data with **doi**: `10.5067/PACE/OCI/L3M/CHL/3.0`.\n",
    "\n",
    "<font size=\"3\"><span style='color:Black'> The **doi** can be found using Earthdata search.\n",
    "\n",
    "<font size=\"3\"><span style='color:Black'> For more information about PACE, head to https://pace.oceansciences.org/ "
   ]
  },
  {
   "cell_type": "code",
   "execution_count": null,
   "id": "a44587a6-69cb-43b0-98ab-9392762e9676",
   "metadata": {},
   "outputs": [],
   "source": [
    "import matplotlib.pyplot as plt\n",
    "import numpy as np\n",
    "import requests\n",
    "from pydap.client import open_url\n",
    "from pydap.net import create_session\n",
    "import json\n",
    "import cartopy.crs as ccrs\n",
    "import xarray as xr\n",
    "import datetime as dt\n",
    "from pydap.client import consolidate_metadata"
   ]
  },
  {
   "cell_type": "markdown",
   "id": "efde031c-335f-44a7-974b-c1409c6a68db",
   "metadata": {},
   "source": [
    "<span style='color:#ff6666'><font size=\"5\">**Finding Cloud OPeNDAP URLs with NASA's CMR**:\n",
    "\n",
    "<span style='font-family:serif'> <font size=\"3\"><span style='color:Black'> Below we illustrate how to find OPeNDAP URLs via the **CMR**\n",
    "\n",
    "<span style='color:#0066cc'><font size=\"3.5\"> **To find (on-prem) OPeNDAP URLs you will need:**\n",
    "\n",
    "* One of `Collection Concept ID` or `dataset DOI`\n",
    "* Time Range\n",
    "\n",
    "<span style='font-family:serif'> <font size=\"3\"><span style='color:Black'>  On-prem OPeNDAP URLs look distinct to cloud OPeNDAP URLs. However, the workflow for finding OPeNDAP URLs and accessing OPeNDAP-served data remains identical. \n",
    "\n",
    "\n"
   ]
  },
  {
   "cell_type": "code",
   "execution_count": null,
   "id": "16c7b945-4fb0-4d91-954e-24360888cd57",
   "metadata": {},
   "outputs": [],
   "source": [
    "session = requests.Session()"
   ]
  },
  {
   "cell_type": "code",
   "execution_count": null,
   "id": "e0108309-047c-44d1-bcdd-94db21b1d8db",
   "metadata": {},
   "outputs": [],
   "source": [
    "# CMR API base url\n",
    "cmrurl='https://cmr.earthdata.nasa.gov/search/'\n",
    "doi = \"10.5067/PACE/OCI/L3M/CHL/3.0\"\n",
    "doisearch = cmrurl + 'collections.json?doi=' + doi\n",
    "print(doisearch)\n",
    "\n",
    "concept_id = session.get(doisearch).json()['feed']['entry'][0]['id']\n",
    "print(concept_id)"
   ]
  },
  {
   "cell_type": "markdown",
   "id": "7f4ba5c9-7665-4d75-81f5-de4862b87ee6",
   "metadata": {},
   "source": [
    "<span style='font-family:serif'> <font size=\"5.5\"><span style='color:#0066cc'> **Specify time range**\n",
    "\n",
    "<font size=\"3\"><span style='color:Black'> This dataset covers `March 2024` to present day. \n"
   ]
  },
  {
   "cell_type": "code",
   "execution_count": null,
   "id": "c3de7046-f8f0-4dbd-93f5-f75609b99d7a",
   "metadata": {},
   "outputs": [],
   "source": [
    "start_date =  dt.datetime(2024, 4, 1) \n",
    "end_date = dt.datetime(2024, 12, 31)\n",
    "\n",
    "print(start_date, end_date,sep='\\n')\n",
    "\n",
    "dt_format = '%Y-%m-%dT%H:%M:%SZ' # format requirement for datetime search\n",
    "temporal_str = start_date.strftime(dt_format) + ',' + end_date.strftime(dt_format)\n",
    "print(temporal_str)"
   ]
  },
  {
   "cell_type": "markdown",
   "id": "b2680c99-1374-41ce-8d79-d2576fce0449",
   "metadata": {},
   "source": [
    "<span style='font-family:serif'> <font size=\"5.5\"><span style='color:#0066cc'> **Get all available OPeNDAP URLs via CMR**\n",
    "\n",
    "The cell below will search/find all OPeNDAP URLs associated with the Collection concept ID.\n",
    "\n",
    "The results wll be stored in the variable `granules_urls`.\n",
    "    "
   ]
  },
  {
   "cell_type": "code",
   "execution_count": null,
   "id": "6ce8d678-3f0f-4616-a473-0b682ddf9906",
   "metadata": {},
   "outputs": [],
   "source": [
    "def get_opendap_urls(concept_id, time_range, _session=None):\n",
    "    \"\"\"\n",
    "    Queries NASA's `Common Metadata Repository` to identify all OPeNDAP URLS\n",
    "    given collection concept ID and temporal time range.\n",
    "    \"\"\"\n",
    "    cmr_url = 'https://cmr.earthdata.nasa.gov/search/granules'\n",
    "    if not _session:\n",
    "        _session = requests.Session() \n",
    "    cmr_response = _session.get(cmr_url, params={'concept_id': concept_id,'temporal': time_range,'page_size': 500}, headers={'Accept': 'application/json'})\n",
    "    granules = cmr_response.json()['feed']['entry']\n",
    "    granules_urls = []\n",
    "    \n",
    "    # Filter and only retain the OPeNDAP URLs\n",
    "    for granule in granules:\n",
    "        item = next((item['href'] for item in granule['links'] if \"opendap\" in item[\"href\"]), None)\n",
    "        if item != None:\n",
    "            granules_urls.append(item)\n",
    "    return granules_urls"
   ]
  },
  {
   "cell_type": "code",
   "execution_count": null,
   "id": "737eae5a-4263-4f7a-b4f4-6931c01d4812",
   "metadata": {},
   "outputs": [],
   "source": [
    "%%time\n",
    "granules_urls = get_opendap_urls(concept_id, temporal_str)"
   ]
  },
  {
   "cell_type": "code",
   "execution_count": null,
   "id": "ed8b2b05-64f9-4356-beab-41074fb8a0b2",
   "metadata": {},
   "outputs": [],
   "source": [
    "print(\"We found: \", len(granules_urls), \" total Non-Cloud OPeNDAP URLS associated with this collection! However not all these belong to the same datacube. WE need to further filter these\")"
   ]
  },
  {
   "cell_type": "code",
   "execution_count": null,
   "id": "eaafaa7a-9417-43c9-9231-d5e4dc5c1fa3",
   "metadata": {},
   "outputs": [],
   "source": [
    "granules_urls[:10]"
   ]
  },
  {
   "cell_type": "code",
   "execution_count": null,
   "id": "889e38ce-d5f7-41ce-ac43-2b232a78e166",
   "metadata": {},
   "outputs": [],
   "source": [
    "new_urls = [url.replace(\"https\", \"dap4\") for url in granules_urls if '4km' in url and \"DAY\" in url]\n",
    "print(\"Of the 500 OPeNDAP URLs in the Collection, only \", len(new_urls), \" are associated with the correct data cube. \")"
   ]
  },
  {
   "cell_type": "code",
   "execution_count": null,
   "id": "dcea9ae6-29c6-4530-9780-c27b0071975d",
   "metadata": {},
   "outputs": [],
   "source": [
    "new_urls[:10]"
   ]
  },
  {
   "cell_type": "markdown",
   "id": "26f37f4e-93e1-45eb-971e-cebf873d1dfd",
   "metadata": {},
   "source": [
    "### Recover locally stored token for authentication"
   ]
  },
  {
   "cell_type": "code",
   "execution_count": null,
   "id": "e003ecd3-f059-4fb2-a71c-e48d603fb073",
   "metadata": {},
   "outputs": [],
   "source": [
    "# load token json data\n",
    "with open('token.json', 'r') as fp:\n",
    "    token = json.load(fp)\n",
    "\n",
    "# pass Token Authorization to a new Session.\n",
    "my_session = create_session(use_cache=True, session_kwargs=token)\n",
    "# clear just in case\n",
    "my_session.cache.clear()"
   ]
  },
  {
   "cell_type": "markdown",
   "id": "99f870de-f894-4aa6-a9a3-1061c50d59d6",
   "metadata": {},
   "source": [
    "## Consolidate all URL Metadata Associated with the Data URL of cloud OPeNDAP URLs\n",
    "\n",
    "PyDAP allows to construct a (cached) reference to all Cloud OPeNDAP urls, and can persist through sessions. Meaning, these Cloud OPenDAP URLS can be stored in your machine\n",
    "for later use!!!! \n",
    "\n",
    "\n"
   ]
  },
  {
   "cell_type": "code",
   "execution_count": null,
   "id": "20e088a5-c314-410e-854f-84e0872f983d",
   "metadata": {},
   "outputs": [],
   "source": [
    "%%time\n",
    "consolidate_metadata(new_urls, my_session)"
   ]
  },
  {
   "cell_type": "code",
   "execution_count": null,
   "id": "dcc846e9-3b23-4924-b3ad-dd8476b8b9e5",
   "metadata": {},
   "outputs": [],
   "source": [
    "my_session.cache.urls()[:10]"
   ]
  },
  {
   "cell_type": "markdown",
   "id": "a406ae4b-64ce-48a1-916c-03ba18fbc8b6",
   "metadata": {},
   "source": [
    "## Create a datacube with xarray and pydap as an engine!\n",
    "\n",
    "\n"
   ]
  },
  {
   "cell_type": "code",
   "execution_count": null,
   "id": "74f72bc7-7612-4552-a5ff-61bead9b9088",
   "metadata": {},
   "outputs": [],
   "source": [
    "%%time\n",
    "ds = xr.open_mfdataset(new_urls, engine='pydap', session=my_session, parallel=True, combine='nested', concat_dim='time')"
   ]
  },
  {
   "cell_type": "code",
   "execution_count": null,
   "id": "6d318916-8819-46fb-9cd8-443bb3ba2e14",
   "metadata": {},
   "outputs": [],
   "source": [
    "ds"
   ]
  },
  {
   "cell_type": "code",
   "execution_count": null,
   "id": "4dc79946-3c5e-421b-84f7-029188eeaa7b",
   "metadata": {},
   "outputs": [],
   "source": [
    "chlor_a = ds['chlor_a'].isel(time=0)\n",
    "chlor_a"
   ]
  },
  {
   "cell_type": "code",
   "execution_count": null,
   "id": "e08f9ff7-54c6-4445-872e-a317675628fa",
   "metadata": {},
   "outputs": [],
   "source": []
  },
  {
   "cell_type": "code",
   "execution_count": null,
   "id": "c41d13d2-4060-46b6-9e75-91dd36a5fc1a",
   "metadata": {},
   "outputs": [],
   "source": []
  },
  {
   "cell_type": "code",
   "execution_count": null,
   "id": "55743fc2-8b50-40cd-b0f7-f6c44db55f64",
   "metadata": {},
   "outputs": [],
   "source": [
    "%%time\n",
    "plt.figure(figsize=(25, 8))\n",
    "ax = plt.axes(projection=ccrs.PlateCarree())\n",
    "ax.set_global()\n",
    "ax.coastlines()\n",
    "plt.contourf(ds.lon, ds.lat, np.log(chlor_a), 400, cmap='nipy_spectral')\n",
    "plt.colorbar().set_label(chlor_a.attrs['long_name'] + ' ['+chlor_a.attrs['units']+']')\n",
    "plt.show()"
   ]
  },
  {
   "cell_type": "code",
   "execution_count": null,
   "id": "6375e132-770d-4318-800f-46c0fd933527",
   "metadata": {},
   "outputs": [],
   "source": []
  }
 ],
 "metadata": {
  "kernelspec": {
   "display_name": "Python 3 (ipykernel)",
   "language": "python",
   "name": "python3"
  },
  "language_info": {
   "codemirror_mode": {
    "name": "ipython",
    "version": 3
   },
   "file_extension": ".py",
   "mimetype": "text/x-python",
   "name": "python",
   "nbconvert_exporter": "python",
   "pygments_lexer": "ipython3",
   "version": "3.11.12"
  }
 },
 "nbformat": 4,
 "nbformat_minor": 5
}
