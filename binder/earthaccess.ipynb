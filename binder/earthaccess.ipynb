{
 "cells": [
  {
   "cell_type": "markdown",
   "id": "6e4a86e9-cd1d-445b-a7c9-89b2466414d9",
   "metadata": {},
   "source": [
    "<span style='color:#009999'> <span style='font-family:serif'> <font size=\"15\"> **Using Earthaccess for access data via Hyrax's DMR++**<span style='color:#0066cc'> \n",
    "\n",
    "\n",
    "\n",
    "<span style='color:#ff6666'><font size=\"5\">**Requirements**\n",
    "1. <font size=\"3\"><span style='color:Black'> Have a Bearer Token for EarthData in the Cloud (See `GetStarted` Notebook).\n",
    "2. <font size=\"3\"><span style='color:Black'> Upload the Bearer Token from local file `token.json`\n",
    "\n",
    "\n",
    "<font size=\"3\"><span style='color:Black'> This notebook makes use of [earthacess](https://xarray.dev/), [VirtualiZarr](https://virtualizarr.readthedocs.io/en/latest/) and [xarray](https://pydap.github.io/pydap/) to access NASA's cloud files currently on `S3`. `Earthaccess` has built-in support for accessing OPeNDAP in the Cloud's DMR++ metadata to generate `VirtualiZarr` references, providing a huge performance boost for running both locally, or in a Cloud compute environment.\n",
    "\n",
    "\n",
    " <span style='color:#ff6666'><font size=\"5\"> **Objectives**\n",
    " \n",
    " \n",
    "- <font size=\"3\"><span style='color:Black'> Demonstrate how to use earthaccess to query datasets that are aviable via `OPeNDAP` in the Cloud and therefore generate Virtual References.\n",
    "- <font size=\"3\"><span style='color:Black'> Demonstrate how to use `earthaccess` to create a virtual aggregated xarray data cube. \n",
    "- <font size=\"3\"><span style='color:Black'> Demonstrate an advanced workflow for storing virtual reference as a Kerchunk object, for later use.\n",
    "\n",
    "\n",
    "<span style='color:#ff6666'><font size=\"5\">**Browsing Data**:\n",
    "\n",
    "<font size=\"3\"><span style='color:Black'> Will make use of \n",
    "\n",
    "\n",
    "<font size=\"3\"><span style='color:Black'> Some Collections of interest can be found following the links below:\n",
    "\n",
    "- <font size=\"3\"> [Native grid](https://podaac.jpl.nasa.gov/dataset/ECCO_L4_GEOMETRY_LLC0090GRID_V4R4)\n",
    "- <font size=\"3\"> [Temperature and Salinity](https://podaac.jpl.nasa.gov/dataset/ECCO_L4_TEMP_SALINITY_LLC0090GRID_MONTHLY_V4R4)\n",
    "- <font size=\"3\"> [Velocities](https://podaac.jpl.nasa.gov/dataset/ECCO_L4_OCEAN_VEL_LLC0090GRID_MONTHLY_V4R4)\n",
    "- <font size=\"3\"> [Mixed layer depth](https://podaac.jpl.nasa.gov/dataset/ECCO_L4_MIXED_LAYER_DEPTH_LLC0090GRID_MONTHLY_V4R4)\n"
   ]
  },
  {
   "cell_type": "code",
   "execution_count": null,
   "id": "aac8388c-02aa-4026-93e8-05b3c5cb7c7c",
   "metadata": {},
   "outputs": [],
   "source": []
  }
 ],
 "metadata": {
  "kernelspec": {
   "display_name": "Python 3 (ipykernel)",
   "language": "python",
   "name": "python3"
  },
  "language_info": {
   "codemirror_mode": {
    "name": "ipython",
    "version": 3
   },
   "file_extension": ".py",
   "mimetype": "text/x-python",
   "name": "python",
   "nbconvert_exporter": "python",
   "pygments_lexer": "ipython3",
   "version": "3.11.12"
  }
 },
 "nbformat": 4,
 "nbformat_minor": 5
}
